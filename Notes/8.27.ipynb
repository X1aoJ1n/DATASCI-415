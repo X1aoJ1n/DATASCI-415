{
 "cells": [
  {
   "metadata": {
    "collapsed": true
   },
   "cell_type": "markdown",
   "source": "## Overview",
   "id": "3615c409530196c7"
  },
  {
   "metadata": {},
   "cell_type": "markdown",
   "source": "",
   "id": "6fd5ff1ac9e1b279"
  },
  {
   "metadata": {},
   "cell_type": "markdown",
   "source": "",
   "id": "25d00c627618f92"
  }
 ],
 "metadata": {
  "kernelspec": {
   "display_name": "Python 3",
   "language": "python",
   "name": "python3"
  },
  "language_info": {
   "codemirror_mode": {
    "name": "ipython",
    "version": 2
   },
   "file_extension": ".py",
   "mimetype": "text/x-python",
   "name": "python",
   "nbconvert_exporter": "python",
   "pygments_lexer": "ipython2",
   "version": "2.7.6"
  }
 },
 "nbformat": 4,
 "nbformat_minor": 5
}
