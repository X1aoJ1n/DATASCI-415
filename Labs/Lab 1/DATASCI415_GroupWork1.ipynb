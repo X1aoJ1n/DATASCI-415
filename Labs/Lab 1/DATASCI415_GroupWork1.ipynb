{
 "cells": [
  {
   "cell_type": "markdown",
   "id": "3442656a",
   "metadata": {
    "id": "3442656a"
   },
   "source": [
    "# Name: Bihui Jin, Groupmate: Catharine\n",
    "\n",
    "# DATASCI 415, Group Work Assignment 1: Introduction to Python\n",
    "\n",
    "*Instructions:* Collaborate in two-person teams to complete the data analysis\n",
    "exercises below. The GSI will help individual teams encountering difficulty,\n",
    "make announcements addressing common issues, and help ensure progress for all teams. Teams will be randomly assigned by the GSIs. Teams are encouraged to talk with their GSI if they need help. Upon completion, one member of the team should submit their team's work through Canvas as html. **Please run all cells of your notebook prior to html conversion and submission.**\n",
    "\n",
    "*Notebook credits:* Roman Kouznetsov and Paolo Borello\n"
   ]
  },
  {
   "cell_type": "markdown",
   "id": "928adb32",
   "metadata": {
    "id": "928adb32"
   },
   "source": [
    "## Where to go for help\n",
    "\n",
    "\n",
    "In lab section, we cannot everything you will need to know to solve the problems below.  The standard way people learn Python is by trial and error and by consulting with online resource.  Here are some resources we suggest.\n",
    "\n",
    "* Books such as https://do1.dr-chuck.com/pythonlearn/EN_us/pythonlearn.pdf can help with basic python knowledge.\n",
    "* Large language models (e.g., ask chatgpt to generate python code that loads a file named \"college_train.csv\" and make a histogram of the Books feature.  See what you get!)\n",
    "* Package documentation\n",
    "  * pandas for manipulating data sets https://pandas.pydata.org/docs/\n",
    "  * numpy for computings with arrays https://numpy.org/doc/stable/\n",
    "  * sklearn for fitting models https://scikit-learn.org/stable/user_guide.html\n",
    "  * matplotlib for plotting https://matplotlib.org/stable/gallery/index\n",
    "* [Python Data Science Handbook](https://jakevdp.github.io/PythonDataScienceHandbook/index.html)\n",
    "*  Python for Data Analysis (You can access through U-M library.)\n",
    "* [Stackoverflow](https://stackoverflow.com/)\n",
    "* The open internet.  Search and you may just find.\n"
   ]
  },
  {
   "cell_type": "markdown",
   "id": "260ff5e7",
   "metadata": {
    "id": "260ff5e7"
   },
   "source": [
    "## Installing Anaconda (**SKIP THIS IF YOU ARE USING COLAB**)"
   ]
  },
  {
   "cell_type": "markdown",
   "id": "d742ea6d",
   "metadata": {
    "id": "d742ea6d"
   },
   "source": [
    "There are various ways to install Python. In this class, we suggest Google colab. Alternatively, you may try Anaconda, which includes both Python and conda, and additionally bundles a suite of other pre-installed packages geared toward scientific computing.\n",
    "\n",
    "\n",
    "You can download Anaconda from https://www.anaconda.com/products/distribution, which includes installers for Windows and MacOS. For MacOS, we recommend using the *Graphical Installer*. You can also check the instructions for installation on [Windows](https://docs.anaconda.com/anaconda/install/windows/) and [MacOS](https://docs.anaconda.com/anaconda/install/mac-os/)."
   ]
  },
  {
   "cell_type": "markdown",
   "id": "a9986d93",
   "metadata": {
    "id": "a9986d93"
   },
   "source": [
    "[Anaconda Navigator](https://docs.anaconda.com/navigator/) is automatically installed when you install Anaconda version 4.0.0 or higher. To verify your installation, you can\n",
    "- Windows: Click **Start**, search for Anaconda Navigator, and click to open.\n",
    "- MacOS: Click **Launchpad** and select Anaconda Navigator. Or use **Cmd+Space** to  open Spotlight Search and type “Navigator” to open the program."
   ]
  },
  {
   "cell_type": "markdown",
   "id": "339487ce",
   "metadata": {
    "id": "339487ce"
   },
   "source": [
    "We will use the Jupyter Notebook from Anaconda Navigator. To install Jupter Notebook, open the Anaconda Navigator and click the \"Install\" button under Jupyter Notebook."
   ]
  },
  {
   "cell_type": "markdown",
   "id": "5a89d516-a485-49d9-a9ba-08eb373d3fae",
   "metadata": {
    "id": "5a89d516-a485-49d9-a9ba-08eb373d3fae"
   },
   "source": [
    "If you can't get jupyter installed on your computer, you might try a cloud version of jupyter notebook, such as https://anaconda.cloud/ or https://colab.research.google.com/."
   ]
  },
  {
   "cell_type": "markdown",
   "id": "9e330c0b-5bb8-43c2-9211-7c73e5cfd261",
   "metadata": {
    "id": "9e330c0b-5bb8-43c2-9211-7c73e5cfd261"
   },
   "source": [
    "## What is a jupyter notebook?\n",
    "\n",
    "A jupyter notebook is a collection of \"cells.\"  There are two kinds of cells.  The first kind is *markdown cells* like this one.  They can have normal text, *italics* and **bold**.  If you edit the cell, you'll see this is done with *markdown* formatting conventions.  \n",
    "\n",
    "Markdown cells can also have equations such as $\\frac{a}{b}$ and\n",
    "\n",
    "$$\\frac{a}{b}.$$\n",
    "\n",
    "These equations are written using latex notation.  You can learn more about how to do different things in markdown from resources such as https://towardsdatascience.com/write-markdown-latex-in-the-jupyter-notebook-10985edb91fd.\n"
   ]
  },
  {
   "cell_type": "code",
   "id": "82443e33-9ee7-4df3-b0e5-cf42f83190eb",
   "metadata": {
    "colab": {
     "base_uri": "https://localhost:8080/"
    },
    "executionInfo": {
     "elapsed": 120,
     "status": "ok",
     "timestamp": 1737132045243,
     "user": {
      "displayName": "Roman Kouznetsov",
      "userId": "17272545075189313587"
     },
     "user_tz": 300
    },
    "id": "82443e33-9ee7-4df3-b0e5-cf42f83190eb",
    "outputId": "f27a4b01-02b3-4a6c-ff1d-34d676a6a65e",
    "ExecuteTime": {
     "end_time": "2025-09-02T19:40:49.018135Z",
     "start_time": "2025-09-02T19:40:49.010483Z"
    }
   },
   "source": [
    "# the other kind of cell is a code cell\n",
    "# in code cells, if you want to write ordinary text\n",
    "# you have to put a \"#\" at the beginning of the line\n",
    "# all other content in code cells is interpreted as\n",
    "# instruction for the computer\n",
    "\n",
    "3+5"
   ],
   "outputs": [
    {
     "data": {
      "text/plain": [
       "8"
      ]
     },
     "execution_count": 117,
     "metadata": {},
     "output_type": "execute_result"
    }
   ],
   "execution_count": 117
  },
  {
   "cell_type": "markdown",
   "id": "4baf6e21",
   "metadata": {
    "id": "4baf6e21"
   },
   "source": [
    "## Installing packages"
   ]
  },
  {
   "cell_type": "markdown",
   "id": "6f5b4730",
   "metadata": {
    "id": "6f5b4730"
   },
   "source": [
    "Most of the commonly-used libraries are pre-installed with Anaconda and/or Google Colab. You can still install packages using\n",
    "- `conda install packagename`\n",
    "- or `pip install packagename` in Terminal (MacOS) or Command Prompt (Windows)."
   ]
  },
  {
   "cell_type": "code",
   "id": "b9081dd3",
   "metadata": {
    "id": "b9081dd3",
    "ExecuteTime": {
     "end_time": "2025-09-02T19:40:49.044158Z",
     "start_time": "2025-09-02T19:40:49.039748Z"
    }
   },
   "source": [
    "# import packages with aliases\n",
    "import numpy as np\n",
    "import pandas as pd"
   ],
   "outputs": [],
   "execution_count": 118
  },
  {
   "cell_type": "markdown",
   "id": "c6a5e2e8",
   "metadata": {
    "id": "c6a5e2e8"
   },
   "source": [
    "##  Lists"
   ]
  },
  {
   "cell_type": "code",
   "id": "4808d048",
   "metadata": {
    "colab": {
     "base_uri": "https://localhost:8080/"
    },
    "executionInfo": {
     "elapsed": 87,
     "status": "ok",
     "timestamp": 1737132213315,
     "user": {
      "displayName": "Roman Kouznetsov",
      "userId": "17272545075189313587"
     },
     "user_tz": 300
    },
    "id": "4808d048",
    "outputId": "8c2abf18-118e-4f3e-f7a8-f19ea710f3a4",
    "ExecuteTime": {
     "end_time": "2025-09-02T19:40:49.074006Z",
     "start_time": "2025-09-02T19:40:49.067135Z"
    }
   },
   "source": [
    "# create a list of integers\n",
    "L = list(range(10))\n",
    "print(L)\n",
    "type(L[0])"
   ],
   "outputs": [
    {
     "name": "stdout",
     "output_type": "stream",
     "text": [
      "[0, 1, 2, 3, 4, 5, 6, 7, 8, 9]\n"
     ]
    },
    {
     "data": {
      "text/plain": [
       "int"
      ]
     },
     "execution_count": 119,
     "metadata": {},
     "output_type": "execute_result"
    }
   ],
   "execution_count": 119
  },
  {
   "cell_type": "code",
   "id": "e0e34ec0",
   "metadata": {
    "colab": {
     "base_uri": "https://localhost:8080/"
    },
    "executionInfo": {
     "elapsed": 84,
     "status": "ok",
     "timestamp": 1737132249647,
     "user": {
      "displayName": "Roman Kouznetsov",
      "userId": "17272545075189313587"
     },
     "user_tz": 300
    },
    "id": "e0e34ec0",
    "outputId": "63aafbe7-14b7-4970-e19e-24387a6d48de",
    "ExecuteTime": {
     "end_time": "2025-09-02T19:40:49.115002Z",
     "start_time": "2025-09-02T19:40:49.109578Z"
    }
   },
   "source": [
    "# create a list of strings\n",
    "L2 = [str(c) for c in L]\n",
    "print(L2)\n",
    "type(L2[0])"
   ],
   "outputs": [
    {
     "name": "stdout",
     "output_type": "stream",
     "text": [
      "['0', '1', '2', '3', '4', '5', '6', '7', '8', '9']\n"
     ]
    },
    {
     "data": {
      "text/plain": [
       "str"
      ]
     },
     "execution_count": 120,
     "metadata": {},
     "output_type": "execute_result"
    }
   ],
   "execution_count": 120
  },
  {
   "cell_type": "code",
   "id": "f6034bd6",
   "metadata": {
    "colab": {
     "base_uri": "https://localhost:8080/"
    },
    "executionInfo": {
     "elapsed": 75,
     "status": "ok",
     "timestamp": 1737132293922,
     "user": {
      "displayName": "Roman Kouznetsov",
      "userId": "17272545075189313587"
     },
     "user_tz": 300
    },
    "id": "f6034bd6",
    "outputId": "d4c44136-75a1-46b0-8e4d-b312111cfdfd",
    "ExecuteTime": {
     "end_time": "2025-09-02T19:40:49.159807Z",
     "start_time": "2025-09-02T19:40:49.153913Z"
    }
   },
   "source": [
    "# create a list of heterogeneous elements\n",
    "L3 = [True, \"2\", 3.0, 4]\n",
    "[type(item) for item in L3]"
   ],
   "outputs": [
    {
     "data": {
      "text/plain": [
       "[bool, str, float, int]"
      ]
     },
     "execution_count": 121,
     "metadata": {},
     "output_type": "execute_result"
    }
   ],
   "execution_count": 121
  },
  {
   "cell_type": "markdown",
   "id": "05e22677",
   "metadata": {
    "id": "05e22677"
   },
   "source": [
    "## Arrays"
   ]
  },
  {
   "cell_type": "markdown",
   "id": "60eb5e41",
   "metadata": {
    "id": "60eb5e41"
   },
   "source": [
    "We have covered about list using built-in functions in Python. Next, let's use `numpy` package to create arrays."
   ]
  },
  {
   "cell_type": "code",
   "id": "91a1a9cf",
   "metadata": {
    "colab": {
     "base_uri": "https://localhost:8080/"
    },
    "executionInfo": {
     "elapsed": 106,
     "status": "ok",
     "timestamp": 1737132367287,
     "user": {
      "displayName": "Roman Kouznetsov",
      "userId": "17272545075189313587"
     },
     "user_tz": 300
    },
    "id": "91a1a9cf",
    "outputId": "a973692e-731c-4dab-9f2c-1892d0e75ec4",
    "ExecuteTime": {
     "end_time": "2025-09-02T19:40:49.200789Z",
     "start_time": "2025-09-02T19:40:49.188905Z"
    }
   },
   "source": [
    "np.array([1, 4, 2, 5, 3])\n",
    "np.array([3.14, 4, 2, 3])\n",
    "np.array([1, 2, 3, 4], dtype='float32') # dtype explicitly sets the data type"
   ],
   "outputs": [
    {
     "data": {
      "text/plain": [
       "array([1., 2., 3., 4.], dtype=float32)"
      ]
     },
     "execution_count": 122,
     "metadata": {},
     "output_type": "execute_result"
    }
   ],
   "execution_count": 122
  },
  {
   "cell_type": "code",
   "id": "a86e7c9b",
   "metadata": {
    "colab": {
     "base_uri": "https://localhost:8080/"
    },
    "executionInfo": {
     "elapsed": 143,
     "status": "ok",
     "timestamp": 1737132409044,
     "user": {
      "displayName": "Roman Kouznetsov",
      "userId": "17272545075189313587"
     },
     "user_tz": 300
    },
    "id": "a86e7c9b",
    "outputId": "db0401c0-b4c3-4caa-8e42-dd10cf3ff118",
    "ExecuteTime": {
     "end_time": "2025-09-02T19:40:49.224211Z",
     "start_time": "2025-09-02T19:40:49.217683Z"
    }
   },
   "source": [
    "# Create a length-10 integer array filled with zeros\n",
    "np.zeros(10, dtype=int)"
   ],
   "outputs": [
    {
     "data": {
      "text/plain": [
       "array([0, 0, 0, 0, 0, 0, 0, 0, 0, 0])"
      ]
     },
     "execution_count": 123,
     "metadata": {},
     "output_type": "execute_result"
    }
   ],
   "execution_count": 123
  },
  {
   "cell_type": "code",
   "id": "0ea9da1a",
   "metadata": {
    "colab": {
     "base_uri": "https://localhost:8080/"
    },
    "executionInfo": {
     "elapsed": 142,
     "status": "ok",
     "timestamp": 1737132458793,
     "user": {
      "displayName": "Roman Kouznetsov",
      "userId": "17272545075189313587"
     },
     "user_tz": 300
    },
    "id": "0ea9da1a",
    "outputId": "bd6e5562-2b9d-4dbf-e4a7-7656418c8b42",
    "ExecuteTime": {
     "end_time": "2025-09-02T19:40:49.249259Z",
     "start_time": "2025-09-02T19:40:49.245013Z"
    }
   },
   "source": [
    "# Create a 3x5 floating-point array filled with ones\n",
    "np.ones((3, 5), dtype=float)"
   ],
   "outputs": [
    {
     "data": {
      "text/plain": [
       "array([[1., 1., 1., 1., 1.],\n",
       "       [1., 1., 1., 1., 1.],\n",
       "       [1., 1., 1., 1., 1.]])"
      ]
     },
     "execution_count": 124,
     "metadata": {},
     "output_type": "execute_result"
    }
   ],
   "execution_count": 124
  },
  {
   "cell_type": "code",
   "id": "38f98c8b",
   "metadata": {
    "colab": {
     "base_uri": "https://localhost:8080/"
    },
    "executionInfo": {
     "elapsed": 138,
     "status": "ok",
     "timestamp": 1737132489656,
     "user": {
      "displayName": "Roman Kouznetsov",
      "userId": "17272545075189313587"
     },
     "user_tz": 300
    },
    "id": "38f98c8b",
    "outputId": "6856e599-aea2-4336-8f22-63b332fb78c4",
    "ExecuteTime": {
     "end_time": "2025-09-02T19:40:49.279977Z",
     "start_time": "2025-09-02T19:40:49.275Z"
    }
   },
   "source": [
    "# Create a 3x5 array filled with 3.14\n",
    "np.full((3, 5), 3.14)"
   ],
   "outputs": [
    {
     "data": {
      "text/plain": [
       "array([[3.14, 3.14, 3.14, 3.14, 3.14],\n",
       "       [3.14, 3.14, 3.14, 3.14, 3.14],\n",
       "       [3.14, 3.14, 3.14, 3.14, 3.14]])"
      ]
     },
     "execution_count": 125,
     "metadata": {},
     "output_type": "execute_result"
    }
   ],
   "execution_count": 125
  },
  {
   "cell_type": "code",
   "id": "fd77938f",
   "metadata": {
    "colab": {
     "base_uri": "https://localhost:8080/"
    },
    "executionInfo": {
     "elapsed": 136,
     "status": "ok",
     "timestamp": 1737132509360,
     "user": {
      "displayName": "Roman Kouznetsov",
      "userId": "17272545075189313587"
     },
     "user_tz": 300
    },
    "id": "fd77938f",
    "outputId": "c6e8d9bb-2f52-4e30-ce5d-ee2a26883efd",
    "ExecuteTime": {
     "end_time": "2025-09-02T19:40:49.303988Z",
     "start_time": "2025-09-02T19:40:49.299249Z"
    }
   },
   "source": [
    "# Create a 3x3 identity matrix\n",
    "np.eye(3)"
   ],
   "outputs": [
    {
     "data": {
      "text/plain": [
       "array([[1., 0., 0.],\n",
       "       [0., 1., 0.],\n",
       "       [0., 0., 1.]])"
      ]
     },
     "execution_count": 126,
     "metadata": {},
     "output_type": "execute_result"
    }
   ],
   "execution_count": 126
  },
  {
   "cell_type": "code",
   "id": "d0f1f9ac",
   "metadata": {
    "colab": {
     "base_uri": "https://localhost:8080/"
    },
    "executionInfo": {
     "elapsed": 138,
     "status": "ok",
     "timestamp": 1737132528930,
     "user": {
      "displayName": "Roman Kouznetsov",
      "userId": "17272545075189313587"
     },
     "user_tz": 300
    },
    "id": "d0f1f9ac",
    "outputId": "261a0999-94ec-4518-ab5d-0c02397406aa",
    "ExecuteTime": {
     "end_time": "2025-09-02T19:40:49.352916Z",
     "start_time": "2025-09-02T19:40:49.349015Z"
    }
   },
   "source": [
    "# Create an array filled with a linear sequence\n",
    "# Starting at 0, ending at 20, stepping by 2\n",
    "# (this is similar to the built-in range() function)\n",
    "np.arange(0, 20, 2)"
   ],
   "outputs": [
    {
     "data": {
      "text/plain": [
       "array([ 0,  2,  4,  6,  8, 10, 12, 14, 16, 18])"
      ]
     },
     "execution_count": 127,
     "metadata": {},
     "output_type": "execute_result"
    }
   ],
   "execution_count": 127
  },
  {
   "cell_type": "code",
   "id": "1655e81b",
   "metadata": {
    "colab": {
     "base_uri": "https://localhost:8080/"
    },
    "executionInfo": {
     "elapsed": 132,
     "status": "ok",
     "timestamp": 1737132548085,
     "user": {
      "displayName": "Roman Kouznetsov",
      "userId": "17272545075189313587"
     },
     "user_tz": 300
    },
    "id": "1655e81b",
    "outputId": "7a6fc200-e517-42c5-e265-ce505a10b1b5",
    "ExecuteTime": {
     "end_time": "2025-09-02T19:40:49.406748Z",
     "start_time": "2025-09-02T19:40:49.401356Z"
    }
   },
   "source": [
    "# Create an array of five values evenly spaced between 0 and 1\n",
    "np.linspace(0, 1, 5)"
   ],
   "outputs": [
    {
     "data": {
      "text/plain": [
       "array([0.  , 0.25, 0.5 , 0.75, 1.  ])"
      ]
     },
     "execution_count": 128,
     "metadata": {},
     "output_type": "execute_result"
    }
   ],
   "execution_count": 128
  },
  {
   "cell_type": "code",
   "id": "7faa2128",
   "metadata": {
    "colab": {
     "base_uri": "https://localhost:8080/"
    },
    "executionInfo": {
     "elapsed": 123,
     "status": "ok",
     "timestamp": 1737132580483,
     "user": {
      "displayName": "Roman Kouznetsov",
      "userId": "17272545075189313587"
     },
     "user_tz": 300
    },
    "id": "7faa2128",
    "outputId": "baf9c995-4d68-44e3-d4fa-5280010bde2f",
    "ExecuteTime": {
     "end_time": "2025-09-02T19:40:49.448723Z",
     "start_time": "2025-09-02T19:40:49.440573Z"
    }
   },
   "source": [
    "# Create a 3x3 array of normally distributed random values\n",
    "# with mean 0 and standard deviation 1\n",
    "np.random.normal(0, 1, (3, 3))"
   ],
   "outputs": [
    {
     "data": {
      "text/plain": [
       "array([[-0.52357391, -1.35479871, -0.29255501],\n",
       "       [ 0.74993796, -1.23082395, -1.53350366],\n",
       "       [-0.68519541, -1.82968428,  0.83766263]])"
      ]
     },
     "execution_count": 129,
     "metadata": {},
     "output_type": "execute_result"
    }
   ],
   "execution_count": 129
  },
  {
   "cell_type": "code",
   "id": "b721ce1d",
   "metadata": {
    "colab": {
     "base_uri": "https://localhost:8080/"
    },
    "executionInfo": {
     "elapsed": 87,
     "status": "ok",
     "timestamp": 1737132581866,
     "user": {
      "displayName": "Roman Kouznetsov",
      "userId": "17272545075189313587"
     },
     "user_tz": 300
    },
    "id": "b721ce1d",
    "outputId": "5564606d-c993-4b01-9554-bf081221afa4",
    "ExecuteTime": {
     "end_time": "2025-09-02T19:40:49.483894Z",
     "start_time": "2025-09-02T19:40:49.476803Z"
    }
   },
   "source": [
    "# Create a 3x3 array of random integers in the interval [0, 10)\n",
    "np.random.randint(0, 10, (3, 3))"
   ],
   "outputs": [
    {
     "data": {
      "text/plain": [
       "array([[4, 5, 2],\n",
       "       [2, 6, 6],\n",
       "       [6, 7, 9]], dtype=int32)"
      ]
     },
     "execution_count": 130,
     "metadata": {},
     "output_type": "execute_result"
    }
   ],
   "execution_count": 130
  },
  {
   "cell_type": "markdown",
   "id": "e367c680",
   "metadata": {
    "id": "e367c680"
   },
   "source": [
    "## Array indexing: single elements\n"
   ]
  },
  {
   "cell_type": "markdown",
   "id": "5a189bfe",
   "metadata": {
    "id": "5a189bfe"
   },
   "source": [
    "In a one-dimensional array, the ith value (**counting from zero**) can be accessed by specifying the desired index in square brackets."
   ]
  },
  {
   "cell_type": "code",
   "id": "f0e34c40",
   "metadata": {
    "colab": {
     "base_uri": "https://localhost:8080/"
    },
    "executionInfo": {
     "elapsed": 74,
     "status": "ok",
     "timestamp": 1737132698264,
     "user": {
      "displayName": "Roman Kouznetsov",
      "userId": "17272545075189313587"
     },
     "user_tz": 300
    },
    "id": "f0e34c40",
    "outputId": "06a50ad0-1d09-4766-9477-33b07cc6b19e",
    "ExecuteTime": {
     "end_time": "2025-09-02T19:40:49.547934Z",
     "start_time": "2025-09-02T19:40:49.539746Z"
    }
   },
   "source": [
    "np.random.seed(0)  # seed for reproducibility\n",
    "\n",
    "x1 = np.random.randint(10, size=6)  # One-dimensional array\n",
    "x2 = np.random.randint(10, size=(3, 4))  # Two-dimensional array\n",
    "x3 = np.random.randint(10, size=(3, 4, 5))  # Three-dimensional array\n",
    "\n",
    "print(\"x3 ndim: \", x3.ndim)\n",
    "print(\"x3 shape:\", x3.shape)\n",
    "print(\"x3 size: \", x3.size)"
   ],
   "outputs": [
    {
     "name": "stdout",
     "output_type": "stream",
     "text": [
      "x3 ndim:  3\n",
      "x3 shape: (3, 4, 5)\n",
      "x3 size:  60\n"
     ]
    }
   ],
   "execution_count": 131
  },
  {
   "cell_type": "code",
   "id": "755769b3",
   "metadata": {
    "colab": {
     "base_uri": "https://localhost:8080/"
    },
    "executionInfo": {
     "elapsed": 106,
     "status": "ok",
     "timestamp": 1737132721859,
     "user": {
      "displayName": "Roman Kouznetsov",
      "userId": "17272545075189313587"
     },
     "user_tz": 300
    },
    "id": "755769b3",
    "outputId": "2d1b9047-9719-41d1-f464-409429bb4abc",
    "ExecuteTime": {
     "end_time": "2025-09-02T19:40:49.578943Z",
     "start_time": "2025-09-02T19:40:49.574687Z"
    }
   },
   "source": [
    "# access single elements\n",
    "print(x1)\n",
    "print(x1[0]) # first element in x1\n",
    "print(x1[4]) # fifth element in x1"
   ],
   "outputs": [
    {
     "name": "stdout",
     "output_type": "stream",
     "text": [
      "[5 0 3 3 7 9]\n",
      "5\n",
      "7\n"
     ]
    }
   ],
   "execution_count": 132
  },
  {
   "cell_type": "code",
   "id": "46bd8b4c",
   "metadata": {
    "colab": {
     "base_uri": "https://localhost:8080/"
    },
    "executionInfo": {
     "elapsed": 136,
     "status": "ok",
     "timestamp": 1737132747228,
     "user": {
      "displayName": "Roman Kouznetsov",
      "userId": "17272545075189313587"
     },
     "user_tz": 300
    },
    "id": "46bd8b4c",
    "outputId": "44d91fca-a9c2-428a-8485-963b0a65475e",
    "ExecuteTime": {
     "end_time": "2025-09-02T19:40:49.601991Z",
     "start_time": "2025-09-02T19:40:49.598975Z"
    }
   },
   "source": [
    "# index from the end of the array\n",
    "print(x1[-1]) # last element\n",
    "print(x1[-2]) # second-to-last element"
   ],
   "outputs": [
    {
     "name": "stdout",
     "output_type": "stream",
     "text": [
      "9\n",
      "7\n"
     ]
    }
   ],
   "execution_count": 133
  },
  {
   "cell_type": "code",
   "id": "c7b61a79",
   "metadata": {
    "colab": {
     "base_uri": "https://localhost:8080/"
    },
    "executionInfo": {
     "elapsed": 131,
     "status": "ok",
     "timestamp": 1737132789019,
     "user": {
      "displayName": "Roman Kouznetsov",
      "userId": "17272545075189313587"
     },
     "user_tz": 300
    },
    "id": "c7b61a79",
    "outputId": "6aedf43f-3224-4c75-b169-79747518d31d",
    "ExecuteTime": {
     "end_time": "2025-09-02T19:40:49.629745Z",
     "start_time": "2025-09-02T19:40:49.626696Z"
    }
   },
   "source": [
    "print(x2)\n",
    "print(x2[0, 0])\n",
    "print(x2[2, 0])\n",
    "print(x2[2, -1])"
   ],
   "outputs": [
    {
     "name": "stdout",
     "output_type": "stream",
     "text": [
      "[[3 5 2 4]\n",
      " [7 6 8 8]\n",
      " [1 6 7 7]]\n",
      "3\n",
      "1\n",
      "7\n"
     ]
    }
   ],
   "execution_count": 134
  },
  {
   "cell_type": "code",
   "id": "81fcf129",
   "metadata": {
    "colab": {
     "base_uri": "https://localhost:8080/"
    },
    "executionInfo": {
     "elapsed": 85,
     "status": "ok",
     "timestamp": 1737132822804,
     "user": {
      "displayName": "Roman Kouznetsov",
      "userId": "17272545075189313587"
     },
     "user_tz": 300
    },
    "id": "81fcf129",
    "outputId": "8747828b-c022-4cc4-96a7-a840a31c9b5e",
    "ExecuteTime": {
     "end_time": "2025-09-02T19:40:49.660524Z",
     "start_time": "2025-09-02T19:40:49.656943Z"
    }
   },
   "source": [
    "# modify values using index notation\n",
    "x2[0, 0] = 12\n",
    "x2"
   ],
   "outputs": [
    {
     "data": {
      "text/plain": [
       "array([[12,  5,  2,  4],\n",
       "       [ 7,  6,  8,  8],\n",
       "       [ 1,  6,  7,  7]], dtype=int32)"
      ]
     },
     "execution_count": 135,
     "metadata": {},
     "output_type": "execute_result"
    }
   ],
   "execution_count": 135
  },
  {
   "cell_type": "markdown",
   "id": "0adb04ac",
   "metadata": {
    "id": "0adb04ac"
   },
   "source": [
    "## Array slicing: subarrays"
   ]
  },
  {
   "cell_type": "code",
   "id": "77eb36ad",
   "metadata": {
    "colab": {
     "base_uri": "https://localhost:8080/"
    },
    "executionInfo": {
     "elapsed": 92,
     "status": "ok",
     "timestamp": 1737132907430,
     "user": {
      "displayName": "Roman Kouznetsov",
      "userId": "17272545075189313587"
     },
     "user_tz": 300
    },
    "id": "77eb36ad",
    "outputId": "5f026dea-5972-4646-cc15-922426a5c2ce",
    "ExecuteTime": {
     "end_time": "2025-09-02T19:40:49.689843Z",
     "start_time": "2025-09-02T19:40:49.685867Z"
    }
   },
   "source": [
    "# one-dimensional subarrays\n",
    "x = np.arange(10)\n",
    "x"
   ],
   "outputs": [
    {
     "data": {
      "text/plain": [
       "array([0, 1, 2, 3, 4, 5, 6, 7, 8, 9])"
      ]
     },
     "execution_count": 136,
     "metadata": {},
     "output_type": "execute_result"
    }
   ],
   "execution_count": 136
  },
  {
   "cell_type": "code",
   "id": "38c1d05a",
   "metadata": {
    "colab": {
     "base_uri": "https://localhost:8080/"
    },
    "executionInfo": {
     "elapsed": 100,
     "status": "ok",
     "timestamp": 1737132922170,
     "user": {
      "displayName": "Roman Kouznetsov",
      "userId": "17272545075189313587"
     },
     "user_tz": 300
    },
    "id": "38c1d05a",
    "outputId": "382f096a-56c7-4d10-feb6-4c28288e36fe",
    "ExecuteTime": {
     "end_time": "2025-09-02T19:40:49.720744Z",
     "start_time": "2025-09-02T19:40:49.717480Z"
    }
   },
   "source": [
    "print(x[:5])  # first five elements\n",
    "print(x[5:])  # elements after index 5"
   ],
   "outputs": [
    {
     "name": "stdout",
     "output_type": "stream",
     "text": [
      "[0 1 2 3 4]\n",
      "[5 6 7 8 9]\n"
     ]
    }
   ],
   "execution_count": 137
  },
  {
   "cell_type": "code",
   "id": "fc46fee1",
   "metadata": {
    "colab": {
     "base_uri": "https://localhost:8080/"
    },
    "executionInfo": {
     "elapsed": 87,
     "status": "ok",
     "timestamp": 1737132936174,
     "user": {
      "displayName": "Roman Kouznetsov",
      "userId": "17272545075189313587"
     },
     "user_tz": 300
    },
    "id": "fc46fee1",
    "outputId": "4c6e2fca-5aef-44cd-8f4b-6c2461165cd1",
    "ExecuteTime": {
     "end_time": "2025-09-02T19:40:49.753600Z",
     "start_time": "2025-09-02T19:40:49.750120Z"
    }
   },
   "source": [
    "print(x[4:7])  # middle sub-array\n",
    "print(x[::2])  # every other element"
   ],
   "outputs": [
    {
     "name": "stdout",
     "output_type": "stream",
     "text": [
      "[4 5 6]\n",
      "[0 2 4 6 8]\n"
     ]
    }
   ],
   "execution_count": 138
  },
  {
   "cell_type": "code",
   "id": "1ac64473",
   "metadata": {
    "colab": {
     "base_uri": "https://localhost:8080/"
    },
    "executionInfo": {
     "elapsed": 93,
     "status": "ok",
     "timestamp": 1737132991378,
     "user": {
      "displayName": "Roman Kouznetsov",
      "userId": "17272545075189313587"
     },
     "user_tz": 300
    },
    "id": "1ac64473",
    "outputId": "b2485ce7-9ec9-42e0-8a7f-9f86c03b37e8",
    "ExecuteTime": {
     "end_time": "2025-09-02T19:40:49.781663Z",
     "start_time": "2025-09-02T19:40:49.777660Z"
    }
   },
   "source": [
    "print(x[::-1])  # all elements, reversed\n",
    "print(x[5::-2])  # reversed every other from index 5"
   ],
   "outputs": [
    {
     "name": "stdout",
     "output_type": "stream",
     "text": [
      "[9 8 7 6 5 4 3 2 1 0]\n",
      "[5 3 1]\n"
     ]
    }
   ],
   "execution_count": 139
  },
  {
   "cell_type": "code",
   "id": "8455666f",
   "metadata": {
    "colab": {
     "base_uri": "https://localhost:8080/"
    },
    "executionInfo": {
     "elapsed": 121,
     "status": "ok",
     "timestamp": 1737133023778,
     "user": {
      "displayName": "Roman Kouznetsov",
      "userId": "17272545075189313587"
     },
     "user_tz": 300
    },
    "id": "8455666f",
    "outputId": "af8b24e1-58b8-4af1-fd80-41dce74be0fc",
    "ExecuteTime": {
     "end_time": "2025-09-02T19:40:49.808623Z",
     "start_time": "2025-09-02T19:40:49.805388Z"
    }
   },
   "source": [
    "# multi-dimensional subarrays\n",
    "print(x2[:, 0])  # first column of x2\n",
    "print(x2[0, :])  # first row of x2"
   ],
   "outputs": [
    {
     "name": "stdout",
     "output_type": "stream",
     "text": [
      "[12  7  1]\n",
      "[12  5  2  4]\n"
     ]
    }
   ],
   "execution_count": 140
  },
  {
   "cell_type": "code",
   "id": "d2100fc1",
   "metadata": {
    "colab": {
     "base_uri": "https://localhost:8080/"
    },
    "executionInfo": {
     "elapsed": 94,
     "status": "ok",
     "timestamp": 1737133066469,
     "user": {
      "displayName": "Roman Kouznetsov",
      "userId": "17272545075189313587"
     },
     "user_tz": 300
    },
    "id": "d2100fc1",
    "outputId": "acbd960d-85ae-42a4-cf1a-2fd6d4ae9f67",
    "ExecuteTime": {
     "end_time": "2025-09-02T19:40:49.875636Z",
     "start_time": "2025-09-02T19:40:49.871541Z"
    }
   },
   "source": [
    "print(x2[:2, :3])  # two rows, three columns\n",
    "print(x2[:3, ::2])  # all rows, every other column"
   ],
   "outputs": [
    {
     "name": "stdout",
     "output_type": "stream",
     "text": [
      "[[12  5  2]\n",
      " [ 7  6  8]]\n",
      "[[12  2]\n",
      " [ 7  8]\n",
      " [ 1  7]]\n"
     ]
    }
   ],
   "execution_count": 141
  },
  {
   "cell_type": "code",
   "id": "7ff8e254",
   "metadata": {
    "colab": {
     "base_uri": "https://localhost:8080/"
    },
    "executionInfo": {
     "elapsed": 84,
     "status": "ok",
     "timestamp": 1737133068043,
     "user": {
      "displayName": "Roman Kouznetsov",
      "userId": "17272545075189313587"
     },
     "user_tz": 300
    },
    "id": "7ff8e254",
    "outputId": "e39bbb97-bc8c-4a0a-cf5c-8f832806b20d",
    "ExecuteTime": {
     "end_time": "2025-09-02T19:40:49.930208Z",
     "start_time": "2025-09-02T19:40:49.923940Z"
    }
   },
   "source": [
    "print(x2[::-1, ::-1]) # reverse dimensions together"
   ],
   "outputs": [
    {
     "name": "stdout",
     "output_type": "stream",
     "text": [
      "[[ 7  7  6  1]\n",
      " [ 8  8  6  7]\n",
      " [ 4  2  5 12]]\n"
     ]
    }
   ],
   "execution_count": 142
  },
  {
   "cell_type": "markdown",
   "id": "2895e683",
   "metadata": {
    "id": "2895e683"
   },
   "source": [
    "## Arithmetic commands"
   ]
  },
  {
   "cell_type": "code",
   "id": "6b7a8770",
   "metadata": {
    "colab": {
     "base_uri": "https://localhost:8080/"
    },
    "executionInfo": {
     "elapsed": 130,
     "status": "ok",
     "timestamp": 1737133101521,
     "user": {
      "displayName": "Roman Kouznetsov",
      "userId": "17272545075189313587"
     },
     "user_tz": 300
    },
    "id": "6b7a8770",
    "outputId": "4f6aa1b2-f9f0-47f1-8796-91858c996446",
    "ExecuteTime": {
     "end_time": "2025-09-02T19:40:49.974311Z",
     "start_time": "2025-09-02T19:40:49.968838Z"
    }
   },
   "source": [
    "x = np.arange(4)\n",
    "print(\"x     =\", x)\n",
    "print(\"x + 5 =\", x + 5)\n",
    "print(\"x - 5 =\", x - 5)\n",
    "print(\"x * 2 =\", x * 2)\n",
    "print(\"x / 2 =\", x / 2)\n",
    "print(\"x // 2 =\", x // 2)  # floor division"
   ],
   "outputs": [
    {
     "name": "stdout",
     "output_type": "stream",
     "text": [
      "x     = [0 1 2 3]\n",
      "x + 5 = [5 6 7 8]\n",
      "x - 5 = [-5 -4 -3 -2]\n",
      "x * 2 = [0 2 4 6]\n",
      "x / 2 = [0.  0.5 1.  1.5]\n",
      "x // 2 = [0 0 1 1]\n"
     ]
    }
   ],
   "execution_count": 143
  },
  {
   "cell_type": "code",
   "id": "154cdbba",
   "metadata": {
    "colab": {
     "base_uri": "https://localhost:8080/"
    },
    "executionInfo": {
     "elapsed": 156,
     "status": "ok",
     "timestamp": 1737133122734,
     "user": {
      "displayName": "Roman Kouznetsov",
      "userId": "17272545075189313587"
     },
     "user_tz": 300
    },
    "id": "154cdbba",
    "outputId": "239e7b89-eb76-49ac-98a8-5dfcecc822ad",
    "ExecuteTime": {
     "end_time": "2025-09-02T19:40:50.020555Z",
     "start_time": "2025-09-02T19:40:50.015970Z"
    }
   },
   "source": [
    "print(\"-x     = \", -x)\n",
    "print(\"x ** 2 = \", x ** 2) # ** operator for exponentiation\n",
    "print(\"x % 2  = \", x % 2) # % operator for modulus"
   ],
   "outputs": [
    {
     "name": "stdout",
     "output_type": "stream",
     "text": [
      "-x     =  [ 0 -1 -2 -3]\n",
      "x ** 2 =  [0 1 4 9]\n",
      "x % 2  =  [0 1 0 1]\n"
     ]
    }
   ],
   "execution_count": 144
  },
  {
   "cell_type": "code",
   "id": "c824fe10",
   "metadata": {
    "colab": {
     "base_uri": "https://localhost:8080/"
    },
    "executionInfo": {
     "elapsed": 97,
     "status": "ok",
     "timestamp": 1737133155909,
     "user": {
      "displayName": "Roman Kouznetsov",
      "userId": "17272545075189313587"
     },
     "user_tz": 300
    },
    "id": "c824fe10",
    "outputId": "5a4a685e-72e6-43ac-8ea7-49164cb4d11e",
    "ExecuteTime": {
     "end_time": "2025-09-02T19:40:50.068334Z",
     "start_time": "2025-09-02T19:40:50.063660Z"
    }
   },
   "source": [
    "x = np.array([-2, -1, 0, 1, 2])\n",
    "abs(x)\n",
    "np.absolute(x)"
   ],
   "outputs": [
    {
     "data": {
      "text/plain": [
       "array([2, 1, 0, 1, 2])"
      ]
     },
     "execution_count": 145,
     "metadata": {},
     "output_type": "execute_result"
    }
   ],
   "execution_count": 145
  },
  {
   "cell_type": "code",
   "id": "31fee8f6",
   "metadata": {
    "colab": {
     "base_uri": "https://localhost:8080/"
    },
    "executionInfo": {
     "elapsed": 137,
     "status": "ok",
     "timestamp": 1737133159397,
     "user": {
      "displayName": "Roman Kouznetsov",
      "userId": "17272545075189313587"
     },
     "user_tz": 300
    },
    "id": "31fee8f6",
    "outputId": "b9f5499b-ea10-4b07-dcb3-3e3f83a6038e",
    "ExecuteTime": {
     "end_time": "2025-09-02T19:40:50.112047Z",
     "start_time": "2025-09-02T19:40:50.107397Z"
    }
   },
   "source": [
    "x = [1, 2, 3]\n",
    "print(\"x     =\", x)\n",
    "print(\"e^x   =\", np.exp(x))\n",
    "print(\"2^x   =\", np.exp2(x))\n",
    "print(\"3^x   =\", np.power(3, x))"
   ],
   "outputs": [
    {
     "name": "stdout",
     "output_type": "stream",
     "text": [
      "x     = [1, 2, 3]\n",
      "e^x   = [ 2.71828183  7.3890561  20.08553692]\n",
      "2^x   = [2. 4. 8.]\n",
      "3^x   = [ 3  9 27]\n"
     ]
    }
   ],
   "execution_count": 146
  },
  {
   "cell_type": "code",
   "id": "0cad24fc",
   "metadata": {
    "colab": {
     "base_uri": "https://localhost:8080/"
    },
    "executionInfo": {
     "elapsed": 85,
     "status": "ok",
     "timestamp": 1737133174880,
     "user": {
      "displayName": "Roman Kouznetsov",
      "userId": "17272545075189313587"
     },
     "user_tz": 300
    },
    "id": "0cad24fc",
    "outputId": "072b466a-3518-42a2-bc6e-1dce35a1b1c6",
    "ExecuteTime": {
     "end_time": "2025-09-02T19:40:50.143494Z",
     "start_time": "2025-09-02T19:40:50.138719Z"
    }
   },
   "source": [
    "x = [1, 2, 4, 10]\n",
    "print(\"x        =\", x)\n",
    "print(\"ln(x)    =\", np.log(x))\n",
    "print(\"log2(x)  =\", np.log2(x))\n",
    "print(\"log10(x) =\", np.log10(x))"
   ],
   "outputs": [
    {
     "name": "stdout",
     "output_type": "stream",
     "text": [
      "x        = [1, 2, 4, 10]\n",
      "ln(x)    = [0.         0.69314718 1.38629436 2.30258509]\n",
      "log2(x)  = [0.         1.         2.         3.32192809]\n",
      "log10(x) = [0.         0.30103    0.60205999 1.        ]\n"
     ]
    }
   ],
   "execution_count": 147
  },
  {
   "cell_type": "code",
   "id": "0759b3c0",
   "metadata": {
    "colab": {
     "base_uri": "https://localhost:8080/"
    },
    "executionInfo": {
     "elapsed": 133,
     "status": "ok",
     "timestamp": 1737133185924,
     "user": {
      "displayName": "Roman Kouznetsov",
      "userId": "17272545075189313587"
     },
     "user_tz": 300
    },
    "id": "0759b3c0",
    "outputId": "058d08b7-cd82-4f3a-9ad7-ef11a1386c0a",
    "ExecuteTime": {
     "end_time": "2025-09-02T19:40:50.168339Z",
     "start_time": "2025-09-02T19:40:50.165062Z"
    }
   },
   "source": [
    "a = np.array([0, 1, 2])\n",
    "b = np.array([5, 5, 5])\n",
    "a + b"
   ],
   "outputs": [
    {
     "data": {
      "text/plain": [
       "array([5, 6, 7])"
      ]
     },
     "execution_count": 148,
     "metadata": {},
     "output_type": "execute_result"
    }
   ],
   "execution_count": 148
  },
  {
   "cell_type": "code",
   "id": "3e54e514",
   "metadata": {
    "colab": {
     "base_uri": "https://localhost:8080/"
    },
    "executionInfo": {
     "elapsed": 226,
     "status": "ok",
     "timestamp": 1737133298941,
     "user": {
      "displayName": "Roman Kouznetsov",
      "userId": "17272545075189313587"
     },
     "user_tz": 300
    },
    "id": "3e54e514",
    "outputId": "aafd07f6-c6dc-4bff-8b60-1935afae4771",
    "ExecuteTime": {
     "end_time": "2025-09-02T19:40:50.197847Z",
     "start_time": "2025-09-02T19:40:50.194014Z"
    }
   },
   "source": [
    "a + 5"
   ],
   "outputs": [
    {
     "data": {
      "text/plain": [
       "array([5, 6, 7])"
      ]
     },
     "execution_count": 149,
     "metadata": {},
     "output_type": "execute_result"
    }
   ],
   "execution_count": 149
  },
  {
   "cell_type": "code",
   "id": "700ffe8d",
   "metadata": {
    "colab": {
     "base_uri": "https://localhost:8080/"
    },
    "executionInfo": {
     "elapsed": 87,
     "status": "ok",
     "timestamp": 1737133565928,
     "user": {
      "displayName": "Roman Kouznetsov",
      "userId": "17272545075189313587"
     },
     "user_tz": 300
    },
    "id": "700ffe8d",
    "outputId": "1f75725b-f9f9-4d43-b73f-639badb61ac9",
    "ExecuteTime": {
     "end_time": "2025-09-02T19:40:50.223940Z",
     "start_time": "2025-09-02T19:40:50.217569Z"
    }
   },
   "source": [
    "# centering\n",
    "X = np.random.random((10, 3))\n",
    "print(f\"X is {X}\")\n",
    "Xmean = X.mean(0)\n",
    "print(f\"X bar is {Xmean}\")\n",
    "X_centered = X - Xmean\n",
    "X_centered.mean(0)"
   ],
   "outputs": [
    {
     "name": "stdout",
     "output_type": "stream",
     "text": [
      "X is [[0.65279032 0.63505887 0.99529957]\n",
      " [0.58185033 0.41436859 0.4746975 ]\n",
      " [0.6235101  0.33800761 0.67475232]\n",
      " [0.31720174 0.77834548 0.94957105]\n",
      " [0.66252687 0.01357164 0.6228461 ]\n",
      " [0.67365963 0.971945   0.87819347]\n",
      " [0.50962438 0.05571469 0.45115921]\n",
      " [0.01998767 0.44171092 0.97958673]\n",
      " [0.35944446 0.48089353 0.68866118]\n",
      " [0.88047589 0.91823547 0.21682214]]\n",
      "X bar is [0.52810714 0.50478518 0.69315893]\n"
     ]
    },
    {
     "data": {
      "text/plain": [
       "array([-2.22044605e-17,  0.00000000e+00,  4.44089210e-17])"
      ]
     },
     "execution_count": 150,
     "metadata": {},
     "output_type": "execute_result"
    }
   ],
   "execution_count": 150
  },
  {
   "cell_type": "code",
   "id": "18afa539",
   "metadata": {
    "colab": {
     "base_uri": "https://localhost:8080/"
    },
    "executionInfo": {
     "elapsed": 72,
     "status": "ok",
     "timestamp": 1737133570149,
     "user": {
      "displayName": "Roman Kouznetsov",
      "userId": "17272545075189313587"
     },
     "user_tz": 300
    },
    "id": "18afa539",
    "outputId": "8045eb84-6d79-4a84-9852-c11207510483",
    "ExecuteTime": {
     "end_time": "2025-09-02T19:40:50.265034Z",
     "start_time": "2025-09-02T19:40:50.260277Z"
    }
   },
   "source": [
    "np.random.seed(1)\n",
    "L = np.random.random(100)\n",
    "sum(L)\n",
    "np.sum(L)"
   ],
   "outputs": [
    {
     "data": {
      "text/plain": [
       "np.float64(48.587792760014565)"
      ]
     },
     "execution_count": 151,
     "metadata": {},
     "output_type": "execute_result"
    }
   ],
   "execution_count": 151
  },
  {
   "cell_type": "code",
   "id": "5fa6a8d3",
   "metadata": {
    "colab": {
     "base_uri": "https://localhost:8080/"
    },
    "executionInfo": {
     "elapsed": 231,
     "status": "ok",
     "timestamp": 1737133600026,
     "user": {
      "displayName": "Roman Kouznetsov",
      "userId": "17272545075189313587"
     },
     "user_tz": 300
    },
    "id": "5fa6a8d3",
    "outputId": "99a2c7b7-6d98-4c7e-c9fe-98c82a93592c",
    "ExecuteTime": {
     "end_time": "2025-09-02T19:40:50.370286Z",
     "start_time": "2025-09-02T19:40:50.303006Z"
    }
   },
   "source": [
    "big_array = np.random.random(1000000)\n",
    "min(big_array), max(big_array)\n",
    "np.min(big_array), np.max(big_array)"
   ],
   "outputs": [
    {
     "data": {
      "text/plain": [
       "(np.float64(3.0077687129814734e-07), np.float64(0.9999995556201814))"
      ]
     },
     "execution_count": 152,
     "metadata": {},
     "output_type": "execute_result"
    }
   ],
   "execution_count": 152
  },
  {
   "cell_type": "code",
   "id": "18a06885",
   "metadata": {
    "colab": {
     "base_uri": "https://localhost:8080/"
    },
    "executionInfo": {
     "elapsed": 107,
     "status": "ok",
     "timestamp": 1737133617702,
     "user": {
      "displayName": "Roman Kouznetsov",
      "userId": "17272545075189313587"
     },
     "user_tz": 300
    },
    "id": "18a06885",
    "outputId": "0ec2f354-a570-4835-9074-d8fdb752c95a",
    "ExecuteTime": {
     "end_time": "2025-09-02T19:40:50.384319Z",
     "start_time": "2025-09-02T19:40:50.379456Z"
    }
   },
   "source": [
    "M = np.random.random((3, 4))\n",
    "\n",
    "# find the minimum value within each column by specifying axis=0\n",
    "M.min(axis=0)"
   ],
   "outputs": [
    {
     "data": {
      "text/plain": [
       "array([0.00488767, 0.53595758, 0.10182827, 0.1352457 ])"
      ]
     },
     "execution_count": 153,
     "metadata": {},
     "output_type": "execute_result"
    }
   ],
   "execution_count": 153
  },
  {
   "cell_type": "code",
   "id": "942019c0",
   "metadata": {
    "colab": {
     "base_uri": "https://localhost:8080/"
    },
    "executionInfo": {
     "elapsed": 89,
     "status": "ok",
     "timestamp": 1737133618410,
     "user": {
      "displayName": "Roman Kouznetsov",
      "userId": "17272545075189313587"
     },
     "user_tz": 300
    },
    "id": "942019c0",
    "outputId": "7b89b4c6-f324-4b5a-ed2f-affc42e9bf83",
    "ExecuteTime": {
     "end_time": "2025-09-02T19:40:50.411834Z",
     "start_time": "2025-09-02T19:40:50.406972Z"
    }
   },
   "source": [
    "# find the variance within each row\n",
    "M.var(axis=1)"
   ],
   "outputs": [
    {
     "data": {
      "text/plain": [
       "array([0.02826916, 0.06416402, 0.09646854])"
      ]
     },
     "execution_count": 154,
     "metadata": {},
     "output_type": "execute_result"
    }
   ],
   "execution_count": 154
  },
  {
   "cell_type": "markdown",
   "id": "0a073fb6",
   "metadata": {
    "id": "0a073fb6"
   },
   "source": [
    "## Iterations and traversals"
   ]
  },
  {
   "cell_type": "markdown",
   "id": "c7d588a3",
   "metadata": {
    "id": "c7d588a3"
   },
   "source": [
    "A for loop is used for iterating over a sequence (that is either a list, a tuple, a dictionary, a set, or a string)."
   ]
  },
  {
   "cell_type": "code",
   "id": "e427dd99",
   "metadata": {
    "colab": {
     "base_uri": "https://localhost:8080/"
    },
    "executionInfo": {
     "elapsed": 158,
     "status": "ok",
     "timestamp": 1737133809291,
     "user": {
      "displayName": "Roman Kouznetsov",
      "userId": "17272545075189313587"
     },
     "user_tz": 300
    },
    "id": "e427dd99",
    "outputId": "dba2d78d-d00a-461e-92f5-b69362c7f77f",
    "ExecuteTime": {
     "end_time": "2025-09-02T19:40:50.438267Z",
     "start_time": "2025-09-02T19:40:50.434849Z"
    }
   },
   "source": [
    "fruits = [\"apple\", \"banana\", \"cherry\"]\n",
    "for i, x in enumerate(fruits):\n",
    "  print(\"I have one\", x, i)"
   ],
   "outputs": [
    {
     "name": "stdout",
     "output_type": "stream",
     "text": [
      "I have one apple 0\n",
      "I have one banana 1\n",
      "I have one cherry 2\n"
     ]
    }
   ],
   "execution_count": 155
  },
  {
   "cell_type": "code",
   "id": "944317f4",
   "metadata": {
    "colab": {
     "base_uri": "https://localhost:8080/"
    },
    "executionInfo": {
     "elapsed": 109,
     "status": "ok",
     "timestamp": 1737133754737,
     "user": {
      "displayName": "Roman Kouznetsov",
      "userId": "17272545075189313587"
     },
     "user_tz": 300
    },
    "id": "944317f4",
    "outputId": "116ed04c-c006-436a-cd8e-920d074437b6",
    "ExecuteTime": {
     "end_time": "2025-09-02T19:40:50.475473Z",
     "start_time": "2025-09-02T19:40:50.472592Z"
    }
   },
   "source": [
    "# notice the zero indexing again here\n",
    "for i in range(5):\n",
    "    print(i)"
   ],
   "outputs": [
    {
     "name": "stdout",
     "output_type": "stream",
     "text": [
      "0\n",
      "1\n",
      "2\n",
      "3\n",
      "4\n"
     ]
    }
   ],
   "execution_count": 156
  },
  {
   "cell_type": "markdown",
   "id": "c466f135-3a00-4150-9153-68b87a017dd8",
   "metadata": {
    "id": "c466f135-3a00-4150-9153-68b87a017dd8"
   },
   "source": [
    "## Basic dataset manipulation"
   ]
  },
  {
   "cell_type": "code",
   "id": "9d5bb9e5-0b3b-410d-abdc-ba32f5effb6c",
   "metadata": {
    "colab": {
     "base_uri": "https://localhost:8080/",
     "height": 1000
    },
    "executionInfo": {
     "elapsed": 155,
     "status": "ok",
     "timestamp": 1737134107252,
     "user": {
      "displayName": "Roman Kouznetsov",
      "userId": "17272545075189313587"
     },
     "user_tz": 300
    },
    "id": "9d5bb9e5-0b3b-410d-abdc-ba32f5effb6c",
    "outputId": "e6a0ad12-fca3-404d-f843-804e73bc8123",
    "ExecuteTime": {
     "end_time": "2025-09-02T19:40:50.661071Z",
     "start_time": "2025-09-02T19:40:50.505310Z"
    }
   },
   "source": [
    "# use pandas libray to load a dataset\n",
    "# https://github.com/selva86/datasets/blob/master/iris_test.csv\n",
    "iris=pd.read_csv('iris_test.csv')\n",
    "iris"
   ],
   "outputs": [
    {
     "data": {
      "text/plain": [
       "    Sepal.Length  Sepal.Width  Petal.Length  Petal.Width     Species\n",
       "0            5.1          3.5           1.4          0.2      setosa\n",
       "1            4.9          3.0           1.4          0.2      setosa\n",
       "2            4.6          3.1           1.5          0.2      setosa\n",
       "3            5.0          3.4           1.5          0.2      setosa\n",
       "4            4.4          2.9           1.4          0.2      setosa\n",
       "5            4.3          3.0           1.1          0.1      setosa\n",
       "6            5.1          3.8           1.5          0.3      setosa\n",
       "7            5.0          3.0           1.6          0.2      setosa\n",
       "8            4.8          3.1           1.6          0.2      setosa\n",
       "9            5.5          3.5           1.3          0.2      setosa\n",
       "10           4.4          3.0           1.3          0.2      setosa\n",
       "11           5.1          3.4           1.5          0.2      setosa\n",
       "12           4.5          2.3           1.3          0.3      setosa\n",
       "13           5.0          3.5           1.6          0.6      setosa\n",
       "14           5.1          3.8           1.6          0.2      setosa\n",
       "15           7.0          3.2           4.7          1.4  versicolor\n",
       "16           6.4          3.2           4.5          1.5  versicolor\n",
       "17           6.9          3.1           4.9          1.5  versicolor\n",
       "18           5.0          2.0           3.5          1.0  versicolor\n",
       "19           6.0          2.2           4.0          1.0  versicolor\n",
       "20           6.1          2.9           4.7          1.4  versicolor\n",
       "21           5.8          2.7           4.1          1.0  versicolor\n",
       "22           5.9          3.2           4.8          1.8  versicolor\n",
       "23           6.1          2.8           4.0          1.3  versicolor\n",
       "24           6.1          2.8           4.7          1.2  versicolor\n",
       "25           6.6          3.0           4.4          1.4  versicolor\n",
       "26           6.8          2.8           4.8          1.4  versicolor\n",
       "27           6.7          3.0           5.0          1.7  versicolor\n",
       "28           6.0          2.9           4.5          1.5  versicolor\n",
       "29           5.5          2.5           4.0          1.3  versicolor\n",
       "30           6.5          3.0           5.8          2.2   virginica\n",
       "31           7.6          3.0           6.6          2.1   virginica\n",
       "32           6.4          2.7           5.3          1.9   virginica\n",
       "33           5.7          2.5           5.0          2.0   virginica\n",
       "34           5.8          2.8           5.1          2.4   virginica\n",
       "35           6.4          3.2           5.3          2.3   virginica\n",
       "36           7.7          3.8           6.7          2.2   virginica\n",
       "37           7.2          3.2           6.0          1.8   virginica\n",
       "38           7.2          3.0           5.8          1.6   virginica\n",
       "39           6.4          2.8           5.6          2.2   virginica\n",
       "40           6.9          3.1           5.4          2.1   virginica\n",
       "41           6.7          3.1           5.6          2.4   virginica\n",
       "42           6.9          3.1           5.1          2.3   virginica\n",
       "43           6.8          3.2           5.9          2.3   virginica\n",
       "44           6.3          2.5           5.0          1.9   virginica"
      ],
      "text/html": [
       "<div>\n",
       "<style scoped>\n",
       "    .dataframe tbody tr th:only-of-type {\n",
       "        vertical-align: middle;\n",
       "    }\n",
       "\n",
       "    .dataframe tbody tr th {\n",
       "        vertical-align: top;\n",
       "    }\n",
       "\n",
       "    .dataframe thead th {\n",
       "        text-align: right;\n",
       "    }\n",
       "</style>\n",
       "<table border=\"1\" class=\"dataframe\">\n",
       "  <thead>\n",
       "    <tr style=\"text-align: right;\">\n",
       "      <th></th>\n",
       "      <th>Sepal.Length</th>\n",
       "      <th>Sepal.Width</th>\n",
       "      <th>Petal.Length</th>\n",
       "      <th>Petal.Width</th>\n",
       "      <th>Species</th>\n",
       "    </tr>\n",
       "  </thead>\n",
       "  <tbody>\n",
       "    <tr>\n",
       "      <th>0</th>\n",
       "      <td>5.1</td>\n",
       "      <td>3.5</td>\n",
       "      <td>1.4</td>\n",
       "      <td>0.2</td>\n",
       "      <td>setosa</td>\n",
       "    </tr>\n",
       "    <tr>\n",
       "      <th>1</th>\n",
       "      <td>4.9</td>\n",
       "      <td>3.0</td>\n",
       "      <td>1.4</td>\n",
       "      <td>0.2</td>\n",
       "      <td>setosa</td>\n",
       "    </tr>\n",
       "    <tr>\n",
       "      <th>2</th>\n",
       "      <td>4.6</td>\n",
       "      <td>3.1</td>\n",
       "      <td>1.5</td>\n",
       "      <td>0.2</td>\n",
       "      <td>setosa</td>\n",
       "    </tr>\n",
       "    <tr>\n",
       "      <th>3</th>\n",
       "      <td>5.0</td>\n",
       "      <td>3.4</td>\n",
       "      <td>1.5</td>\n",
       "      <td>0.2</td>\n",
       "      <td>setosa</td>\n",
       "    </tr>\n",
       "    <tr>\n",
       "      <th>4</th>\n",
       "      <td>4.4</td>\n",
       "      <td>2.9</td>\n",
       "      <td>1.4</td>\n",
       "      <td>0.2</td>\n",
       "      <td>setosa</td>\n",
       "    </tr>\n",
       "    <tr>\n",
       "      <th>5</th>\n",
       "      <td>4.3</td>\n",
       "      <td>3.0</td>\n",
       "      <td>1.1</td>\n",
       "      <td>0.1</td>\n",
       "      <td>setosa</td>\n",
       "    </tr>\n",
       "    <tr>\n",
       "      <th>6</th>\n",
       "      <td>5.1</td>\n",
       "      <td>3.8</td>\n",
       "      <td>1.5</td>\n",
       "      <td>0.3</td>\n",
       "      <td>setosa</td>\n",
       "    </tr>\n",
       "    <tr>\n",
       "      <th>7</th>\n",
       "      <td>5.0</td>\n",
       "      <td>3.0</td>\n",
       "      <td>1.6</td>\n",
       "      <td>0.2</td>\n",
       "      <td>setosa</td>\n",
       "    </tr>\n",
       "    <tr>\n",
       "      <th>8</th>\n",
       "      <td>4.8</td>\n",
       "      <td>3.1</td>\n",
       "      <td>1.6</td>\n",
       "      <td>0.2</td>\n",
       "      <td>setosa</td>\n",
       "    </tr>\n",
       "    <tr>\n",
       "      <th>9</th>\n",
       "      <td>5.5</td>\n",
       "      <td>3.5</td>\n",
       "      <td>1.3</td>\n",
       "      <td>0.2</td>\n",
       "      <td>setosa</td>\n",
       "    </tr>\n",
       "    <tr>\n",
       "      <th>10</th>\n",
       "      <td>4.4</td>\n",
       "      <td>3.0</td>\n",
       "      <td>1.3</td>\n",
       "      <td>0.2</td>\n",
       "      <td>setosa</td>\n",
       "    </tr>\n",
       "    <tr>\n",
       "      <th>11</th>\n",
       "      <td>5.1</td>\n",
       "      <td>3.4</td>\n",
       "      <td>1.5</td>\n",
       "      <td>0.2</td>\n",
       "      <td>setosa</td>\n",
       "    </tr>\n",
       "    <tr>\n",
       "      <th>12</th>\n",
       "      <td>4.5</td>\n",
       "      <td>2.3</td>\n",
       "      <td>1.3</td>\n",
       "      <td>0.3</td>\n",
       "      <td>setosa</td>\n",
       "    </tr>\n",
       "    <tr>\n",
       "      <th>13</th>\n",
       "      <td>5.0</td>\n",
       "      <td>3.5</td>\n",
       "      <td>1.6</td>\n",
       "      <td>0.6</td>\n",
       "      <td>setosa</td>\n",
       "    </tr>\n",
       "    <tr>\n",
       "      <th>14</th>\n",
       "      <td>5.1</td>\n",
       "      <td>3.8</td>\n",
       "      <td>1.6</td>\n",
       "      <td>0.2</td>\n",
       "      <td>setosa</td>\n",
       "    </tr>\n",
       "    <tr>\n",
       "      <th>15</th>\n",
       "      <td>7.0</td>\n",
       "      <td>3.2</td>\n",
       "      <td>4.7</td>\n",
       "      <td>1.4</td>\n",
       "      <td>versicolor</td>\n",
       "    </tr>\n",
       "    <tr>\n",
       "      <th>16</th>\n",
       "      <td>6.4</td>\n",
       "      <td>3.2</td>\n",
       "      <td>4.5</td>\n",
       "      <td>1.5</td>\n",
       "      <td>versicolor</td>\n",
       "    </tr>\n",
       "    <tr>\n",
       "      <th>17</th>\n",
       "      <td>6.9</td>\n",
       "      <td>3.1</td>\n",
       "      <td>4.9</td>\n",
       "      <td>1.5</td>\n",
       "      <td>versicolor</td>\n",
       "    </tr>\n",
       "    <tr>\n",
       "      <th>18</th>\n",
       "      <td>5.0</td>\n",
       "      <td>2.0</td>\n",
       "      <td>3.5</td>\n",
       "      <td>1.0</td>\n",
       "      <td>versicolor</td>\n",
       "    </tr>\n",
       "    <tr>\n",
       "      <th>19</th>\n",
       "      <td>6.0</td>\n",
       "      <td>2.2</td>\n",
       "      <td>4.0</td>\n",
       "      <td>1.0</td>\n",
       "      <td>versicolor</td>\n",
       "    </tr>\n",
       "    <tr>\n",
       "      <th>20</th>\n",
       "      <td>6.1</td>\n",
       "      <td>2.9</td>\n",
       "      <td>4.7</td>\n",
       "      <td>1.4</td>\n",
       "      <td>versicolor</td>\n",
       "    </tr>\n",
       "    <tr>\n",
       "      <th>21</th>\n",
       "      <td>5.8</td>\n",
       "      <td>2.7</td>\n",
       "      <td>4.1</td>\n",
       "      <td>1.0</td>\n",
       "      <td>versicolor</td>\n",
       "    </tr>\n",
       "    <tr>\n",
       "      <th>22</th>\n",
       "      <td>5.9</td>\n",
       "      <td>3.2</td>\n",
       "      <td>4.8</td>\n",
       "      <td>1.8</td>\n",
       "      <td>versicolor</td>\n",
       "    </tr>\n",
       "    <tr>\n",
       "      <th>23</th>\n",
       "      <td>6.1</td>\n",
       "      <td>2.8</td>\n",
       "      <td>4.0</td>\n",
       "      <td>1.3</td>\n",
       "      <td>versicolor</td>\n",
       "    </tr>\n",
       "    <tr>\n",
       "      <th>24</th>\n",
       "      <td>6.1</td>\n",
       "      <td>2.8</td>\n",
       "      <td>4.7</td>\n",
       "      <td>1.2</td>\n",
       "      <td>versicolor</td>\n",
       "    </tr>\n",
       "    <tr>\n",
       "      <th>25</th>\n",
       "      <td>6.6</td>\n",
       "      <td>3.0</td>\n",
       "      <td>4.4</td>\n",
       "      <td>1.4</td>\n",
       "      <td>versicolor</td>\n",
       "    </tr>\n",
       "    <tr>\n",
       "      <th>26</th>\n",
       "      <td>6.8</td>\n",
       "      <td>2.8</td>\n",
       "      <td>4.8</td>\n",
       "      <td>1.4</td>\n",
       "      <td>versicolor</td>\n",
       "    </tr>\n",
       "    <tr>\n",
       "      <th>27</th>\n",
       "      <td>6.7</td>\n",
       "      <td>3.0</td>\n",
       "      <td>5.0</td>\n",
       "      <td>1.7</td>\n",
       "      <td>versicolor</td>\n",
       "    </tr>\n",
       "    <tr>\n",
       "      <th>28</th>\n",
       "      <td>6.0</td>\n",
       "      <td>2.9</td>\n",
       "      <td>4.5</td>\n",
       "      <td>1.5</td>\n",
       "      <td>versicolor</td>\n",
       "    </tr>\n",
       "    <tr>\n",
       "      <th>29</th>\n",
       "      <td>5.5</td>\n",
       "      <td>2.5</td>\n",
       "      <td>4.0</td>\n",
       "      <td>1.3</td>\n",
       "      <td>versicolor</td>\n",
       "    </tr>\n",
       "    <tr>\n",
       "      <th>30</th>\n",
       "      <td>6.5</td>\n",
       "      <td>3.0</td>\n",
       "      <td>5.8</td>\n",
       "      <td>2.2</td>\n",
       "      <td>virginica</td>\n",
       "    </tr>\n",
       "    <tr>\n",
       "      <th>31</th>\n",
       "      <td>7.6</td>\n",
       "      <td>3.0</td>\n",
       "      <td>6.6</td>\n",
       "      <td>2.1</td>\n",
       "      <td>virginica</td>\n",
       "    </tr>\n",
       "    <tr>\n",
       "      <th>32</th>\n",
       "      <td>6.4</td>\n",
       "      <td>2.7</td>\n",
       "      <td>5.3</td>\n",
       "      <td>1.9</td>\n",
       "      <td>virginica</td>\n",
       "    </tr>\n",
       "    <tr>\n",
       "      <th>33</th>\n",
       "      <td>5.7</td>\n",
       "      <td>2.5</td>\n",
       "      <td>5.0</td>\n",
       "      <td>2.0</td>\n",
       "      <td>virginica</td>\n",
       "    </tr>\n",
       "    <tr>\n",
       "      <th>34</th>\n",
       "      <td>5.8</td>\n",
       "      <td>2.8</td>\n",
       "      <td>5.1</td>\n",
       "      <td>2.4</td>\n",
       "      <td>virginica</td>\n",
       "    </tr>\n",
       "    <tr>\n",
       "      <th>35</th>\n",
       "      <td>6.4</td>\n",
       "      <td>3.2</td>\n",
       "      <td>5.3</td>\n",
       "      <td>2.3</td>\n",
       "      <td>virginica</td>\n",
       "    </tr>\n",
       "    <tr>\n",
       "      <th>36</th>\n",
       "      <td>7.7</td>\n",
       "      <td>3.8</td>\n",
       "      <td>6.7</td>\n",
       "      <td>2.2</td>\n",
       "      <td>virginica</td>\n",
       "    </tr>\n",
       "    <tr>\n",
       "      <th>37</th>\n",
       "      <td>7.2</td>\n",
       "      <td>3.2</td>\n",
       "      <td>6.0</td>\n",
       "      <td>1.8</td>\n",
       "      <td>virginica</td>\n",
       "    </tr>\n",
       "    <tr>\n",
       "      <th>38</th>\n",
       "      <td>7.2</td>\n",
       "      <td>3.0</td>\n",
       "      <td>5.8</td>\n",
       "      <td>1.6</td>\n",
       "      <td>virginica</td>\n",
       "    </tr>\n",
       "    <tr>\n",
       "      <th>39</th>\n",
       "      <td>6.4</td>\n",
       "      <td>2.8</td>\n",
       "      <td>5.6</td>\n",
       "      <td>2.2</td>\n",
       "      <td>virginica</td>\n",
       "    </tr>\n",
       "    <tr>\n",
       "      <th>40</th>\n",
       "      <td>6.9</td>\n",
       "      <td>3.1</td>\n",
       "      <td>5.4</td>\n",
       "      <td>2.1</td>\n",
       "      <td>virginica</td>\n",
       "    </tr>\n",
       "    <tr>\n",
       "      <th>41</th>\n",
       "      <td>6.7</td>\n",
       "      <td>3.1</td>\n",
       "      <td>5.6</td>\n",
       "      <td>2.4</td>\n",
       "      <td>virginica</td>\n",
       "    </tr>\n",
       "    <tr>\n",
       "      <th>42</th>\n",
       "      <td>6.9</td>\n",
       "      <td>3.1</td>\n",
       "      <td>5.1</td>\n",
       "      <td>2.3</td>\n",
       "      <td>virginica</td>\n",
       "    </tr>\n",
       "    <tr>\n",
       "      <th>43</th>\n",
       "      <td>6.8</td>\n",
       "      <td>3.2</td>\n",
       "      <td>5.9</td>\n",
       "      <td>2.3</td>\n",
       "      <td>virginica</td>\n",
       "    </tr>\n",
       "    <tr>\n",
       "      <th>44</th>\n",
       "      <td>6.3</td>\n",
       "      <td>2.5</td>\n",
       "      <td>5.0</td>\n",
       "      <td>1.9</td>\n",
       "      <td>virginica</td>\n",
       "    </tr>\n",
       "  </tbody>\n",
       "</table>\n",
       "</div>"
      ]
     },
     "execution_count": 157,
     "metadata": {},
     "output_type": "execute_result"
    }
   ],
   "execution_count": 157
  },
  {
   "cell_type": "code",
   "id": "f1d50720-0bc9-471e-9684-d453d5b1e650",
   "metadata": {
    "colab": {
     "base_uri": "https://localhost:8080/"
    },
    "executionInfo": {
     "elapsed": 88,
     "status": "ok",
     "timestamp": 1737134190768,
     "user": {
      "displayName": "Roman Kouznetsov",
      "userId": "17272545075189313587"
     },
     "user_tz": 300
    },
    "id": "f1d50720-0bc9-471e-9684-d453d5b1e650",
    "outputId": "f5beb459-2eba-4c4f-86bc-4bc1c062f423",
    "ExecuteTime": {
     "end_time": "2025-09-02T19:40:50.678306Z",
     "start_time": "2025-09-02T19:40:50.671010Z"
    }
   },
   "source": [
    "# use numpy to calculate the median of one of the columns\n",
    "np.median(iris['Sepal.Length'])"
   ],
   "outputs": [
    {
     "data": {
      "text/plain": [
       "np.float64(6.0)"
      ]
     },
     "execution_count": 158,
     "metadata": {},
     "output_type": "execute_result"
    }
   ],
   "execution_count": 158
  },
  {
   "cell_type": "code",
   "id": "d01262b8-f460-4fe9-a47b-1d11fdba01d0",
   "metadata": {
    "colab": {
     "base_uri": "https://localhost:8080/",
     "height": 174
    },
    "executionInfo": {
     "elapsed": 159,
     "status": "ok",
     "timestamp": 1737134215044,
     "user": {
      "displayName": "Roman Kouznetsov",
      "userId": "17272545075189313587"
     },
     "user_tz": 300
    },
    "id": "d01262b8-f460-4fe9-a47b-1d11fdba01d0",
    "outputId": "4c2b16d7-9a60-42cf-ff54-1ad2ec0db33e",
    "ExecuteTime": {
     "end_time": "2025-09-02T19:40:50.715813Z",
     "start_time": "2025-09-02T19:40:50.698935Z"
    }
   },
   "source": [
    "# create a transformed version of one of the columns\n",
    "iris['doublesepal']=iris['Sepal.Length']*2\n",
    "\n",
    "# and look at the first 4 rows of the modified dataframe\n",
    "iris.iloc[:4]"
   ],
   "outputs": [
    {
     "data": {
      "text/plain": [
       "   Sepal.Length  Sepal.Width  Petal.Length  Petal.Width Species  doublesepal\n",
       "0           5.1          3.5           1.4          0.2  setosa         10.2\n",
       "1           4.9          3.0           1.4          0.2  setosa          9.8\n",
       "2           4.6          3.1           1.5          0.2  setosa          9.2\n",
       "3           5.0          3.4           1.5          0.2  setosa         10.0"
      ],
      "text/html": [
       "<div>\n",
       "<style scoped>\n",
       "    .dataframe tbody tr th:only-of-type {\n",
       "        vertical-align: middle;\n",
       "    }\n",
       "\n",
       "    .dataframe tbody tr th {\n",
       "        vertical-align: top;\n",
       "    }\n",
       "\n",
       "    .dataframe thead th {\n",
       "        text-align: right;\n",
       "    }\n",
       "</style>\n",
       "<table border=\"1\" class=\"dataframe\">\n",
       "  <thead>\n",
       "    <tr style=\"text-align: right;\">\n",
       "      <th></th>\n",
       "      <th>Sepal.Length</th>\n",
       "      <th>Sepal.Width</th>\n",
       "      <th>Petal.Length</th>\n",
       "      <th>Petal.Width</th>\n",
       "      <th>Species</th>\n",
       "      <th>doublesepal</th>\n",
       "    </tr>\n",
       "  </thead>\n",
       "  <tbody>\n",
       "    <tr>\n",
       "      <th>0</th>\n",
       "      <td>5.1</td>\n",
       "      <td>3.5</td>\n",
       "      <td>1.4</td>\n",
       "      <td>0.2</td>\n",
       "      <td>setosa</td>\n",
       "      <td>10.2</td>\n",
       "    </tr>\n",
       "    <tr>\n",
       "      <th>1</th>\n",
       "      <td>4.9</td>\n",
       "      <td>3.0</td>\n",
       "      <td>1.4</td>\n",
       "      <td>0.2</td>\n",
       "      <td>setosa</td>\n",
       "      <td>9.8</td>\n",
       "    </tr>\n",
       "    <tr>\n",
       "      <th>2</th>\n",
       "      <td>4.6</td>\n",
       "      <td>3.1</td>\n",
       "      <td>1.5</td>\n",
       "      <td>0.2</td>\n",
       "      <td>setosa</td>\n",
       "      <td>9.2</td>\n",
       "    </tr>\n",
       "    <tr>\n",
       "      <th>3</th>\n",
       "      <td>5.0</td>\n",
       "      <td>3.4</td>\n",
       "      <td>1.5</td>\n",
       "      <td>0.2</td>\n",
       "      <td>setosa</td>\n",
       "      <td>10.0</td>\n",
       "    </tr>\n",
       "  </tbody>\n",
       "</table>\n",
       "</div>"
      ]
     },
     "execution_count": 159,
     "metadata": {},
     "output_type": "execute_result"
    }
   ],
   "execution_count": 159
  },
  {
   "cell_type": "code",
   "id": "39cd233f-43a8-4fb8-bc56-f4576e7f208a",
   "metadata": {
    "colab": {
     "base_uri": "https://localhost:8080/",
     "height": 209
    },
    "executionInfo": {
     "elapsed": 205,
     "status": "ok",
     "timestamp": 1737134341604,
     "user": {
      "displayName": "Roman Kouznetsov",
      "userId": "17272545075189313587"
     },
     "user_tz": 300
    },
    "id": "39cd233f-43a8-4fb8-bc56-f4576e7f208a",
    "outputId": "4000491c-3aac-4018-836a-309ffdeed5fc",
    "ExecuteTime": {
     "end_time": "2025-09-02T19:40:50.759613Z",
     "start_time": "2025-09-02T19:40:50.748838Z"
    }
   },
   "source": [
    "# create a new series that is True where species is virginica and false elsewhere\n",
    "is_virginica=iris['Species']=='virginica'\n",
    "\n",
    "# look at first 4 rows\n",
    "is_virginica.iloc[:4]"
   ],
   "outputs": [
    {
     "data": {
      "text/plain": [
       "0    False\n",
       "1    False\n",
       "2    False\n",
       "3    False\n",
       "Name: Species, dtype: bool"
      ]
     },
     "execution_count": 160,
     "metadata": {},
     "output_type": "execute_result"
    }
   ],
   "execution_count": 160
  },
  {
   "cell_type": "code",
   "id": "0f120fb4-fb36-43a7-aceb-cb00896c276c",
   "metadata": {
    "colab": {
     "base_uri": "https://localhost:8080/"
    },
    "executionInfo": {
     "elapsed": 143,
     "status": "ok",
     "timestamp": 1737134343515,
     "user": {
      "displayName": "Roman Kouznetsov",
      "userId": "17272545075189313587"
     },
     "user_tz": 300
    },
    "id": "0f120fb4-fb36-43a7-aceb-cb00896c276c",
    "outputId": "54374ff4-6c47-4fd8-d644-abe0b0a51d55",
    "ExecuteTime": {
     "end_time": "2025-09-02T19:40:50.786348Z",
     "start_time": "2025-09-02T19:40:50.779597Z"
    }
   },
   "source": [
    "# use numpy to calculate count how many times the species is \"virginica\"\n",
    "np.sum(is_virginica)"
   ],
   "outputs": [
    {
     "data": {
      "text/plain": [
       "np.int64(15)"
      ]
     },
     "execution_count": 161,
     "metadata": {},
     "output_type": "execute_result"
    }
   ],
   "execution_count": 161
  },
  {
   "cell_type": "code",
   "id": "af80c352-672e-4634-abd8-00981297eddc",
   "metadata": {
    "colab": {
     "base_uri": "https://localhost:8080/"
    },
    "executionInfo": {
     "elapsed": 81,
     "status": "ok",
     "timestamp": 1737134433581,
     "user": {
      "displayName": "Roman Kouznetsov",
      "userId": "17272545075189313587"
     },
     "user_tz": 300
    },
    "id": "af80c352-672e-4634-abd8-00981297eddc",
    "outputId": "cc31ce77-d107-4383-a723-30138de62318",
    "ExecuteTime": {
     "end_time": "2025-09-02T19:40:50.808621Z",
     "start_time": "2025-09-02T19:40:50.804340Z"
    }
   },
   "source": [
    "# can also do this more directly without creating a new variable for it\n",
    "np.sum(iris['Species']=='virginica')"
   ],
   "outputs": [
    {
     "data": {
      "text/plain": [
       "np.int64(15)"
      ]
     },
     "execution_count": 162,
     "metadata": {},
     "output_type": "execute_result"
    }
   ],
   "execution_count": 162
  },
  {
   "cell_type": "code",
   "id": "5d2be0c1-3036-415c-8de1-899b6afa35c8",
   "metadata": {
    "colab": {
     "base_uri": "https://localhost:8080/",
     "height": 519
    },
    "executionInfo": {
     "elapsed": 167,
     "status": "ok",
     "timestamp": 1737134437552,
     "user": {
      "displayName": "Roman Kouznetsov",
      "userId": "17272545075189313587"
     },
     "user_tz": 300
    },
    "id": "5d2be0c1-3036-415c-8de1-899b6afa35c8",
    "outputId": "8d13fba4-2eb7-407d-99c9-38c00f4f575c",
    "scrolled": true,
    "ExecuteTime": {
     "end_time": "2025-09-02T19:40:50.841520Z",
     "start_time": "2025-09-02T19:40:50.825841Z"
    }
   },
   "source": [
    "# subset dataframe to include only samples that are virginica\n",
    "new_dataframe=iris.loc[is_virginica]\n",
    "new_dataframe"
   ],
   "outputs": [
    {
     "data": {
      "text/plain": [
       "    Sepal.Length  Sepal.Width  Petal.Length  Petal.Width    Species  \\\n",
       "30           6.5          3.0           5.8          2.2  virginica   \n",
       "31           7.6          3.0           6.6          2.1  virginica   \n",
       "32           6.4          2.7           5.3          1.9  virginica   \n",
       "33           5.7          2.5           5.0          2.0  virginica   \n",
       "34           5.8          2.8           5.1          2.4  virginica   \n",
       "35           6.4          3.2           5.3          2.3  virginica   \n",
       "36           7.7          3.8           6.7          2.2  virginica   \n",
       "37           7.2          3.2           6.0          1.8  virginica   \n",
       "38           7.2          3.0           5.8          1.6  virginica   \n",
       "39           6.4          2.8           5.6          2.2  virginica   \n",
       "40           6.9          3.1           5.4          2.1  virginica   \n",
       "41           6.7          3.1           5.6          2.4  virginica   \n",
       "42           6.9          3.1           5.1          2.3  virginica   \n",
       "43           6.8          3.2           5.9          2.3  virginica   \n",
       "44           6.3          2.5           5.0          1.9  virginica   \n",
       "\n",
       "    doublesepal  \n",
       "30         13.0  \n",
       "31         15.2  \n",
       "32         12.8  \n",
       "33         11.4  \n",
       "34         11.6  \n",
       "35         12.8  \n",
       "36         15.4  \n",
       "37         14.4  \n",
       "38         14.4  \n",
       "39         12.8  \n",
       "40         13.8  \n",
       "41         13.4  \n",
       "42         13.8  \n",
       "43         13.6  \n",
       "44         12.6  "
      ],
      "text/html": [
       "<div>\n",
       "<style scoped>\n",
       "    .dataframe tbody tr th:only-of-type {\n",
       "        vertical-align: middle;\n",
       "    }\n",
       "\n",
       "    .dataframe tbody tr th {\n",
       "        vertical-align: top;\n",
       "    }\n",
       "\n",
       "    .dataframe thead th {\n",
       "        text-align: right;\n",
       "    }\n",
       "</style>\n",
       "<table border=\"1\" class=\"dataframe\">\n",
       "  <thead>\n",
       "    <tr style=\"text-align: right;\">\n",
       "      <th></th>\n",
       "      <th>Sepal.Length</th>\n",
       "      <th>Sepal.Width</th>\n",
       "      <th>Petal.Length</th>\n",
       "      <th>Petal.Width</th>\n",
       "      <th>Species</th>\n",
       "      <th>doublesepal</th>\n",
       "    </tr>\n",
       "  </thead>\n",
       "  <tbody>\n",
       "    <tr>\n",
       "      <th>30</th>\n",
       "      <td>6.5</td>\n",
       "      <td>3.0</td>\n",
       "      <td>5.8</td>\n",
       "      <td>2.2</td>\n",
       "      <td>virginica</td>\n",
       "      <td>13.0</td>\n",
       "    </tr>\n",
       "    <tr>\n",
       "      <th>31</th>\n",
       "      <td>7.6</td>\n",
       "      <td>3.0</td>\n",
       "      <td>6.6</td>\n",
       "      <td>2.1</td>\n",
       "      <td>virginica</td>\n",
       "      <td>15.2</td>\n",
       "    </tr>\n",
       "    <tr>\n",
       "      <th>32</th>\n",
       "      <td>6.4</td>\n",
       "      <td>2.7</td>\n",
       "      <td>5.3</td>\n",
       "      <td>1.9</td>\n",
       "      <td>virginica</td>\n",
       "      <td>12.8</td>\n",
       "    </tr>\n",
       "    <tr>\n",
       "      <th>33</th>\n",
       "      <td>5.7</td>\n",
       "      <td>2.5</td>\n",
       "      <td>5.0</td>\n",
       "      <td>2.0</td>\n",
       "      <td>virginica</td>\n",
       "      <td>11.4</td>\n",
       "    </tr>\n",
       "    <tr>\n",
       "      <th>34</th>\n",
       "      <td>5.8</td>\n",
       "      <td>2.8</td>\n",
       "      <td>5.1</td>\n",
       "      <td>2.4</td>\n",
       "      <td>virginica</td>\n",
       "      <td>11.6</td>\n",
       "    </tr>\n",
       "    <tr>\n",
       "      <th>35</th>\n",
       "      <td>6.4</td>\n",
       "      <td>3.2</td>\n",
       "      <td>5.3</td>\n",
       "      <td>2.3</td>\n",
       "      <td>virginica</td>\n",
       "      <td>12.8</td>\n",
       "    </tr>\n",
       "    <tr>\n",
       "      <th>36</th>\n",
       "      <td>7.7</td>\n",
       "      <td>3.8</td>\n",
       "      <td>6.7</td>\n",
       "      <td>2.2</td>\n",
       "      <td>virginica</td>\n",
       "      <td>15.4</td>\n",
       "    </tr>\n",
       "    <tr>\n",
       "      <th>37</th>\n",
       "      <td>7.2</td>\n",
       "      <td>3.2</td>\n",
       "      <td>6.0</td>\n",
       "      <td>1.8</td>\n",
       "      <td>virginica</td>\n",
       "      <td>14.4</td>\n",
       "    </tr>\n",
       "    <tr>\n",
       "      <th>38</th>\n",
       "      <td>7.2</td>\n",
       "      <td>3.0</td>\n",
       "      <td>5.8</td>\n",
       "      <td>1.6</td>\n",
       "      <td>virginica</td>\n",
       "      <td>14.4</td>\n",
       "    </tr>\n",
       "    <tr>\n",
       "      <th>39</th>\n",
       "      <td>6.4</td>\n",
       "      <td>2.8</td>\n",
       "      <td>5.6</td>\n",
       "      <td>2.2</td>\n",
       "      <td>virginica</td>\n",
       "      <td>12.8</td>\n",
       "    </tr>\n",
       "    <tr>\n",
       "      <th>40</th>\n",
       "      <td>6.9</td>\n",
       "      <td>3.1</td>\n",
       "      <td>5.4</td>\n",
       "      <td>2.1</td>\n",
       "      <td>virginica</td>\n",
       "      <td>13.8</td>\n",
       "    </tr>\n",
       "    <tr>\n",
       "      <th>41</th>\n",
       "      <td>6.7</td>\n",
       "      <td>3.1</td>\n",
       "      <td>5.6</td>\n",
       "      <td>2.4</td>\n",
       "      <td>virginica</td>\n",
       "      <td>13.4</td>\n",
       "    </tr>\n",
       "    <tr>\n",
       "      <th>42</th>\n",
       "      <td>6.9</td>\n",
       "      <td>3.1</td>\n",
       "      <td>5.1</td>\n",
       "      <td>2.3</td>\n",
       "      <td>virginica</td>\n",
       "      <td>13.8</td>\n",
       "    </tr>\n",
       "    <tr>\n",
       "      <th>43</th>\n",
       "      <td>6.8</td>\n",
       "      <td>3.2</td>\n",
       "      <td>5.9</td>\n",
       "      <td>2.3</td>\n",
       "      <td>virginica</td>\n",
       "      <td>13.6</td>\n",
       "    </tr>\n",
       "    <tr>\n",
       "      <th>44</th>\n",
       "      <td>6.3</td>\n",
       "      <td>2.5</td>\n",
       "      <td>5.0</td>\n",
       "      <td>1.9</td>\n",
       "      <td>virginica</td>\n",
       "      <td>12.6</td>\n",
       "    </tr>\n",
       "  </tbody>\n",
       "</table>\n",
       "</div>"
      ]
     },
     "execution_count": 163,
     "metadata": {},
     "output_type": "execute_result"
    }
   ],
   "execution_count": 163
  },
  {
   "cell_type": "markdown",
   "id": "658ded2a",
   "metadata": {
    "id": "658ded2a"
   },
   "source": [
    "### Credits: This notebook is adapted from material by Gang Qiao, Junting Wang, Yichao Chen, and Ji Zhu."
   ]
  },
  {
   "cell_type": "markdown",
   "id": "EBonZIEW7emx",
   "metadata": {
    "id": "EBonZIEW7emx"
   },
   "source": [
    "# **Group Work (30 points)**\n",
    "\n",
    "During weekly lab sections (listed above), students will collaborate to complete data analysis exercises\n",
    "in the Jupyter notebooks provided. GSIs will help individual teams encountering difficulty, make\n",
    "announcements addressing common issues, and help ensure progress for all teams. Initially, teams will\n",
    "be randomly assigned by the GSIs, but students will later be invited to choose their own teammates.\n",
    "Cross-team collaboration is discouraged; teams are instead encouraged to talk with their GSI if they\n",
    "need help.\n",
    "Some weeks the group-work assignment can be completed entirely during lab section, in which case\n",
    "students are expected to submit their work by the end of the lab or shortly thereafter. Other weeks,\n",
    "the group-work assignments initiated during lab section will be due several days later.\n",
    "The purpose of this format is to teach students about teamwork and collaborative data science\n",
    "practices, which are increasingly important in the industry. Working in a group setting can enhance\n",
    "motivation for some students, while others will benefit from the experience of serving as mentors.\n",
    "To accommodate short-term illness and occasional scheduling conflicts, the lowest **2 out of the 12** group-work\n",
    "scores will be dropped.\n",
    "\n",
    "It is our intention that students score near 100% on all of these because Group Work is an opportunity to get everyone initially familiar with using the relevant material, no matter the difficulty level.\n",
    "\n",
    "**Please note that the test cases dictate which function and variable names you should be using.**"
   ]
  },
  {
   "cell_type": "markdown",
   "id": "CXwja7Ev_9hj",
   "metadata": {
    "id": "CXwja7Ev_9hj"
   },
   "source": [
    "## **Function Writing (10 points total)**"
   ]
  },
  {
   "cell_type": "markdown",
   "id": "Amz52pqA8eDY",
   "metadata": {
    "id": "Amz52pqA8eDY"
   },
   "source": [
    "### Problem 1 (2 points)\n",
    "\n",
    "Write a function which computes gross pay given the hours worked and the rate per hour.\n",
    "\n",
    "P.S. Note how the variable names are well-named. They explain what their role in the function is and no one has to guess. Please be mindful when making variable names so people reading your code know what they are."
   ]
  },
  {
   "cell_type": "code",
   "id": "C09XzWvt8Y63",
   "metadata": {
    "id": "C09XzWvt8Y63",
    "ExecuteTime": {
     "end_time": "2025-09-02T19:40:50.852418Z",
     "start_time": "2025-09-02T19:40:50.849365Z"
    }
   },
   "source": [
    "def get_gross_pay(hours_worked, rate_per_hour):\n",
    "    return hours_worked * rate_per_hour"
   ],
   "outputs": [],
   "execution_count": 164
  },
  {
   "cell_type": "markdown",
   "id": "eKJCTTqQ9AdT",
   "metadata": {
    "id": "eKJCTTqQ9AdT"
   },
   "source": [
    "When you are finished with your implementation, check your work on the test cases below. Assert statements check a boolean condition before further code execution is allowed to proceed. Your code will be expected to pass a large variety of test cases to ensure you have a proper solution."
   ]
  },
  {
   "cell_type": "code",
   "id": "dE2P8myK87Jy",
   "metadata": {
    "id": "dE2P8myK87Jy",
    "ExecuteTime": {
     "end_time": "2025-09-02T19:40:50.873618Z",
     "start_time": "2025-09-02T19:40:50.870808Z"
    }
   },
   "source": [
    "assert get_gross_pay(40, 20) == 800\n",
    "assert get_gross_pay(30, 10) == 300"
   ],
   "outputs": [],
   "execution_count": 165
  },
  {
   "cell_type": "markdown",
   "id": "xYISepNh-BDO",
   "metadata": {
    "id": "xYISepNh-BDO"
   },
   "source": [
    "### Problem 2 (3 points)\n",
    "\n",
    "Write a new version of your `get_gross_pay` function to give the employee 1.5 times the hourly rate for hours worked above 40 hours. In addition to the test cases provided, what if some poor soul was pulling 80 hours a week? How much would they make? Include your answer as a markdown answer."
   ]
  },
  {
   "cell_type": "code",
   "id": "Ff9DMBLMAWPl",
   "metadata": {
    "id": "Ff9DMBLMAWPl",
    "ExecuteTime": {
     "end_time": "2025-09-02T19:40:50.883149Z",
     "start_time": "2025-09-02T19:40:50.880250Z"
    }
   },
   "source": [
    "def get_gross_pay(hours_worked, rate_per_hour):\n",
    "    if hours_worked > 40:\n",
    "        return (hours_worked - 40) * rate_per_hour * 1.5 + 40 * rate_per_hour\n",
    "    else:\n",
    "        return hours_worked * rate_per_hour"
   ],
   "outputs": [],
   "execution_count": 166
  },
  {
   "cell_type": "code",
   "id": "XuTaE88G-AUz",
   "metadata": {
    "id": "XuTaE88G-AUz",
    "ExecuteTime": {
     "end_time": "2025-09-02T19:40:50.895639Z",
     "start_time": "2025-09-02T19:40:50.892648Z"
    }
   },
   "source": [
    "assert get_gross_pay(0, 1000)==0\n",
    "assert get_gross_pay(2, 10)==20\n",
    "assert get_gross_pay(41, 10)== 415\n",
    " \n",
    "print(get_gross_pay(80,1)) "
   ],
   "outputs": [
    {
     "name": "stdout",
     "output_type": "stream",
     "text": [
      "100.0\n"
     ]
    }
   ],
   "execution_count": 167
  },
  {
   "cell_type": "markdown",
   "id": "74576116-d619-46fd-a123-797a08e9116a",
   "metadata": {},
   "source": [
    "They still make the first 40 hours 1.5 rate."
   ]
  },
  {
   "cell_type": "markdown",
   "id": "z_t1sPvm_JuV",
   "metadata": {
    "id": "z_t1sPvm_JuV"
   },
   "source": [
    "### Problem 3 (2 points)\n",
    "\n",
    "Write a function `is_power_of_2` that takes a positive integer as its only argument and returns a Boolean indicating whether or not the input is a power of 2.\n",
    "\n",
    "You may assume that the input is a positive integer. You may not use the built-in math.sqrt function in your solution. You should need only the division and modulus (%) operations."
   ]
  },
  {
   "cell_type": "code",
   "id": "ZxYu-dgu_FFf",
   "metadata": {
    "id": "ZxYu-dgu_FFf",
    "ExecuteTime": {
     "end_time": "2025-09-02T19:40:50.916715Z",
     "start_time": "2025-09-02T19:40:50.913737Z"
    }
   },
   "source": [
    "def is_power_of_2(num):\n",
    "    while (num != 2):\n",
    "        if (num % 2 == 1):\n",
    "            return False\n",
    "        num = num / 2\n",
    "    return True"
   ],
   "outputs": [],
   "execution_count": 168
  },
  {
   "cell_type": "markdown",
   "id": "KPcIhUV2_WgP",
   "metadata": {
    "id": "KPcIhUV2_WgP"
   },
   "source": [
    "### Problem 3T (3 points)\n",
    "\n",
    "When writing test cases for your code, there is a solid mantra: \"test none, test one, test many\". Outline how you would write test cases for testing your is_power_of_2 function in markdown. Then, using the assert statement, write the appropriate test cases.\n",
    "\n",
    "<u>**Hint**</u>: Think about some of the edge cases your program may need to handle given the instructions."
   ]
  },
  {
   "cell_type": "code",
   "id": "JhpMbqxYCCCz",
   "metadata": {
    "id": "JhpMbqxYCCCz",
    "ExecuteTime": {
     "end_time": "2025-09-02T19:40:50.934451Z",
     "start_time": "2025-09-02T19:40:50.931988Z"
    }
   },
   "source": [
    "assert is_power_of_2(8)==True\n",
    "assert is_power_of_2(9)==False"
   ],
   "outputs": [],
   "execution_count": 169
  },
  {
   "cell_type": "markdown",
   "id": "0d9e7d06-5bd7-4306-b84f-db5db7a47e6d",
   "metadata": {},
   "source": [
    "I will do one \"True\" case and one \"False\" case."
   ]
  },
  {
   "cell_type": "markdown",
   "id": "gGSEiOinAGWw",
   "metadata": {
    "id": "gGSEiOinAGWw"
   },
   "source": [
    "## **Working with Datasets (10 points total)**\n",
    "\n"
   ]
  },
  {
   "cell_type": "markdown",
   "id": "-7HtV1hlBN8T",
   "metadata": {
    "id": "-7HtV1hlBN8T"
   },
   "source": [
    "### Problem 1 (2 points)\n",
    "\n",
    "You may have noticed in the lab we were able to calculate a median for a variable of interest. However, what if we wanted to generate a 5 number summary for all of the variables for some quick EDA? Write some code that provides a summary of all the variables in the dataset. You may use GenAI or google or pandas documentation to complete this part."
   ]
  },
  {
   "cell_type": "code",
   "id": "aPrD9KXuBjcA",
   "metadata": {
    "id": "aPrD9KXuBjcA",
    "ExecuteTime": {
     "end_time": "2025-09-02T19:40:50.976341Z",
     "start_time": "2025-09-02T19:40:50.941750Z"
    }
   },
   "source": [
    "display(iris.describe(percentiles=[0.25, 0.5, 0.75]).T[[\"min\", \"25%\", \"50%\", \"75%\", \"max\"]])"
   ],
   "outputs": [
    {
     "data": {
      "text/plain": [
       "              min   25%   50%   75%   max\n",
       "Sepal.Length  4.3   5.1   6.0   6.7   7.7\n",
       "Sepal.Width   2.0   2.8   3.0   3.2   3.8\n",
       "Petal.Length  1.1   1.6   4.5   5.1   6.7\n",
       "Petal.Width   0.1   0.2   1.4   1.9   2.4\n",
       "doublesepal   8.6  10.2  12.0  13.4  15.4"
      ],
      "text/html": [
       "<div>\n",
       "<style scoped>\n",
       "    .dataframe tbody tr th:only-of-type {\n",
       "        vertical-align: middle;\n",
       "    }\n",
       "\n",
       "    .dataframe tbody tr th {\n",
       "        vertical-align: top;\n",
       "    }\n",
       "\n",
       "    .dataframe thead th {\n",
       "        text-align: right;\n",
       "    }\n",
       "</style>\n",
       "<table border=\"1\" class=\"dataframe\">\n",
       "  <thead>\n",
       "    <tr style=\"text-align: right;\">\n",
       "      <th></th>\n",
       "      <th>min</th>\n",
       "      <th>25%</th>\n",
       "      <th>50%</th>\n",
       "      <th>75%</th>\n",
       "      <th>max</th>\n",
       "    </tr>\n",
       "  </thead>\n",
       "  <tbody>\n",
       "    <tr>\n",
       "      <th>Sepal.Length</th>\n",
       "      <td>4.3</td>\n",
       "      <td>5.1</td>\n",
       "      <td>6.0</td>\n",
       "      <td>6.7</td>\n",
       "      <td>7.7</td>\n",
       "    </tr>\n",
       "    <tr>\n",
       "      <th>Sepal.Width</th>\n",
       "      <td>2.0</td>\n",
       "      <td>2.8</td>\n",
       "      <td>3.0</td>\n",
       "      <td>3.2</td>\n",
       "      <td>3.8</td>\n",
       "    </tr>\n",
       "    <tr>\n",
       "      <th>Petal.Length</th>\n",
       "      <td>1.1</td>\n",
       "      <td>1.6</td>\n",
       "      <td>4.5</td>\n",
       "      <td>5.1</td>\n",
       "      <td>6.7</td>\n",
       "    </tr>\n",
       "    <tr>\n",
       "      <th>Petal.Width</th>\n",
       "      <td>0.1</td>\n",
       "      <td>0.2</td>\n",
       "      <td>1.4</td>\n",
       "      <td>1.9</td>\n",
       "      <td>2.4</td>\n",
       "    </tr>\n",
       "    <tr>\n",
       "      <th>doublesepal</th>\n",
       "      <td>8.6</td>\n",
       "      <td>10.2</td>\n",
       "      <td>12.0</td>\n",
       "      <td>13.4</td>\n",
       "      <td>15.4</td>\n",
       "    </tr>\n",
       "  </tbody>\n",
       "</table>\n",
       "</div>"
      ]
     },
     "metadata": {},
     "output_type": "display_data"
    }
   ],
   "execution_count": 170
  },
  {
   "cell_type": "markdown",
   "id": "M52xYttYBkbx",
   "metadata": {
    "id": "M52xYttYBkbx"
   },
   "source": [
    "### Problem 1 Follow Up (1 point)\n",
    "\n",
    "What do you notice about the variables that were included in the description table? Answer in markdown."
   ]
  },
  {
   "cell_type": "markdown",
   "id": "saW2Wxf0HhXK",
   "metadata": {
    "id": "saW2Wxf0HhXK"
   },
   "source": [
    "The description table includes all numeric columns (original + derived) and excludes categorical ones like Species."
   ]
  },
  {
   "cell_type": "markdown",
   "id": "Mha-4dv0CKm8",
   "metadata": {
    "id": "Mha-4dv0CKm8"
   },
   "source": [
    "### Problem 2 (2 points)\n",
    "\n",
    "The iris dataset actually has too broad of samples for my liking. Please filter the dataset to only have the following properties\n",
    "\n",
    "1.   Sepal Length of at least 6.9.\n",
    "2.   Petal Width of at least 2.0.\n",
    "3.   Petal length greater than 5.1 but less than 6.1.\n",
    "\n"
   ]
  },
  {
   "cell_type": "code",
   "id": "uJJFhaRWB451",
   "metadata": {
    "id": "uJJFhaRWB451",
    "ExecuteTime": {
     "end_time": "2025-09-02T19:40:50.994319Z",
     "start_time": "2025-09-02T19:40:50.984827Z"
    }
   },
   "source": [
    "filtered_iris = iris[\n",
    "    (iris[\"Sepal.Length\"] >= 6.9) &\n",
    "    (iris[\"Petal.Width\"] >= 2.0) &\n",
    "    (iris[\"Petal.Length\"] > 5.1) &\n",
    "    (iris[\"Petal.Length\"] < 6.1)\n",
    "]\n",
    "\n",
    "display(filtered_iris)"
   ],
   "outputs": [
    {
     "data": {
      "text/plain": [
       "    Sepal.Length  Sepal.Width  Petal.Length  Petal.Width    Species  \\\n",
       "40           6.9          3.1           5.4          2.1  virginica   \n",
       "\n",
       "    doublesepal  \n",
       "40         13.8  "
      ],
      "text/html": [
       "<div>\n",
       "<style scoped>\n",
       "    .dataframe tbody tr th:only-of-type {\n",
       "        vertical-align: middle;\n",
       "    }\n",
       "\n",
       "    .dataframe tbody tr th {\n",
       "        vertical-align: top;\n",
       "    }\n",
       "\n",
       "    .dataframe thead th {\n",
       "        text-align: right;\n",
       "    }\n",
       "</style>\n",
       "<table border=\"1\" class=\"dataframe\">\n",
       "  <thead>\n",
       "    <tr style=\"text-align: right;\">\n",
       "      <th></th>\n",
       "      <th>Sepal.Length</th>\n",
       "      <th>Sepal.Width</th>\n",
       "      <th>Petal.Length</th>\n",
       "      <th>Petal.Width</th>\n",
       "      <th>Species</th>\n",
       "      <th>doublesepal</th>\n",
       "    </tr>\n",
       "  </thead>\n",
       "  <tbody>\n",
       "    <tr>\n",
       "      <th>40</th>\n",
       "      <td>6.9</td>\n",
       "      <td>3.1</td>\n",
       "      <td>5.4</td>\n",
       "      <td>2.1</td>\n",
       "      <td>virginica</td>\n",
       "      <td>13.8</td>\n",
       "    </tr>\n",
       "  </tbody>\n",
       "</table>\n",
       "</div>"
      ]
     },
     "metadata": {},
     "output_type": "display_data"
    }
   ],
   "execution_count": 171
  },
  {
   "cell_type": "markdown",
   "id": "9BtEjJQJDLnG",
   "metadata": {
    "id": "9BtEjJQJDLnG"
   },
   "source": [
    "### Problem 2 Follow Up (1 point)\n",
    "\n",
    "In a new code cell, write an assert statement that checks that you have the correct number of rows in the filtered dataset."
   ]
  },
  {
   "cell_type": "code",
   "id": "BOplsE5eDLEn",
   "metadata": {
    "id": "BOplsE5eDLEn",
    "ExecuteTime": {
     "end_time": "2025-09-02T19:40:51.019783Z",
     "start_time": "2025-09-02T19:40:51.013079Z"
    }
   },
   "source": [
    "assert len(filtered_iris) == 1, f\"Expected 1 row, but got {len(filtered_iris)}\""
   ],
   "outputs": [],
   "execution_count": 172
  },
  {
   "cell_type": "markdown",
   "id": "thUyrc0XFAww",
   "metadata": {
    "id": "thUyrc0XFAww"
   },
   "source": [
    "### Problem 3 (2 points)\n",
    "\n",
    "Assume that petals are rectangular-shaped. Create a new column that stores the area of petals."
   ]
  },
  {
   "cell_type": "code",
   "id": "cH25kIlCG3bk",
   "metadata": {
    "id": "cH25kIlCG3bk",
    "ExecuteTime": {
     "end_time": "2025-09-02T19:40:51.037710Z",
     "start_time": "2025-09-02T19:40:51.034234Z"
    }
   },
   "source": [
    "filtered_iris = filtered_iris.copy()\n",
    "filtered_iris[\"Petal.Area\"] = filtered_iris[\"Petal.Length\"] * filtered_iris[\"Petal.Width\"]"
   ],
   "outputs": [],
   "execution_count": 173
  },
  {
   "cell_type": "markdown",
   "id": "D6oMArqWHMWY",
   "metadata": {
    "id": "D6oMArqWHMWY"
   },
   "source": [
    "### Problem 4 (2 points)\n",
    "\n",
    "Find the maximal area for each class of iris plant."
   ]
  },
  {
   "cell_type": "code",
   "id": "3YIFUpVvHi91",
   "metadata": {
    "id": "3YIFUpVvHi91",
    "ExecuteTime": {
     "end_time": "2025-09-02T19:40:51.073635Z",
     "start_time": "2025-09-02T19:40:51.050264Z"
    }
   },
   "source": [
    "iris[\"Petal.Area\"] = iris[\"Petal.Length\"] * iris[\"Petal.Width\"]\n",
    "\n",
    "max_area_per_class = iris.groupby(\"Species\")[\"Petal.Area\"].max()\n",
    "\n",
    "display(max_area_per_class)"
   ],
   "outputs": [
    {
     "data": {
      "text/plain": [
       "Species\n",
       "setosa         0.96\n",
       "versicolor     8.64\n",
       "virginica     14.74\n",
       "Name: Petal.Area, dtype: float64"
      ]
     },
     "metadata": {},
     "output_type": "display_data"
    }
   ],
   "execution_count": 174
  },
  {
   "cell_type": "markdown",
   "id": "daie0v18ASqr",
   "metadata": {
    "id": "daie0v18ASqr"
   },
   "source": [
    "## **Data Structures (10 points total)**"
   ]
  },
  {
   "cell_type": "markdown",
   "id": "yPC54wAGIKwA",
   "metadata": {
    "id": "yPC54wAGIKwA"
   },
   "source": [
    "### Problem 1 Setup (1 point)\n",
    "\n",
    "Masking is a common opreation in machine learning and artificial intelligence. We will learn how to perform this operation together.\n",
    "\n",
    "\n",
    "\n",
    "1.   Set the random seed to the value 8. This ensures that everyone has the same randomization procedures.\n",
    "2.   Generate a random 5x5 sample of Unif$(0,1)$ values.\n",
    "\n",
    "\n"
   ]
  },
  {
   "cell_type": "code",
   "id": "6LEvVz0rDYjq",
   "metadata": {
    "id": "6LEvVz0rDYjq",
    "ExecuteTime": {
     "end_time": "2025-09-02T19:40:51.085504Z",
     "start_time": "2025-09-02T19:40:51.080592Z"
    }
   },
   "source": [
    "np.random.seed(8)\n",
    "random_array = np.random.rand(5, 5)\n",
    "print(random_array)"
   ],
   "outputs": [
    {
     "name": "stdout",
     "output_type": "stream",
     "text": [
      "[[0.8734294  0.96854066 0.86919454 0.53085569 0.23272833]\n",
      " [0.0113988  0.43046882 0.40235136 0.52267467 0.4783918 ]\n",
      " [0.55535647 0.54338602 0.76089558 0.71237457 0.6196821 ]\n",
      " [0.42609177 0.28907503 0.97385524 0.33377405 0.21880106]\n",
      " [0.06580839 0.98287055 0.12785571 0.32213079 0.07094284]]\n"
     ]
    }
   ],
   "execution_count": 175
  },
  {
   "cell_type": "code",
   "id": "wtNO3FheKfjL",
   "metadata": {
    "id": "wtNO3FheKfjL",
    "ExecuteTime": {
     "end_time": "2025-09-02T19:40:51.106685Z",
     "start_time": "2025-09-02T19:40:51.102225Z"
    }
   },
   "source": [
    "# DO NOT COPY PASTE THIS AS YOUR ANSWER. DOING SO WILL RESULT IN A 0 FOR GROUP WORK.\n",
    "correct_answer = np.array([[0.8734294 , 0.96854066, 0.86919454, 0.53085569, 0.23272833],\n",
    "       [0.0113988 , 0.43046882, 0.40235136, 0.52267467, 0.4783918 ],\n",
    "       [0.55535647, 0.54338602, 0.76089558, 0.71237457, 0.6196821 ],\n",
    "       [0.42609177, 0.28907503, 0.97385524, 0.33377405, 0.21880106],\n",
    "       [0.06580839, 0.98287055, 0.12785571, 0.32213079, 0.07094284]])\n",
    "\n",
    "assert np.sum(np.abs(random_array - correct_answer)) < 1e-7"
   ],
   "outputs": [],
   "execution_count": 176
  },
  {
   "cell_type": "markdown",
   "id": "zGJKw8weLRik",
   "metadata": {
    "id": "zGJKw8weLRik"
   },
   "source": [
    "### Problem 1 (3 points)\n",
    "\n",
    "Perform the following 3 masks:\n",
    "\n",
    "1. Zero out the first 3 columns.\n",
    "2. Zero out any values less than 0.5.\n",
    "3. Zero out all values who's first digit after the decimal place is an even number."
   ]
  },
  {
   "cell_type": "code",
   "id": "axXsXQA3Umjf",
   "metadata": {
    "id": "axXsXQA3Umjf",
    "ExecuteTime": {
     "end_time": "2025-09-02T19:40:51.130199Z",
     "start_time": "2025-09-02T19:40:51.124443Z"
    }
   },
   "source": [
    "# copy arrays\n",
    "masked_array1 = random_array.copy()\n",
    "masked_array2 = random_array.copy()\n",
    "masked_array3 = random_array.copy()\n",
    "\n",
    "# perform masks\n",
    "masked_array1[:, :3] = 0\n",
    "\n",
    "masked_array2[masked_array2 < 0.5] = 0\n",
    "\n",
    "first_digit = (masked_array3 * 10).astype(int) % 10\n",
    "masked_array3[first_digit % 2 == 0] = 0\n",
    "\n",
    "print(\"Masked array 1:\\n\", masked_array1)\n",
    "print(\"Masked array 2:\\n\", masked_array2)\n",
    "print(\"Masked array 3:\\n\", masked_array3)"
   ],
   "outputs": [
    {
     "name": "stdout",
     "output_type": "stream",
     "text": [
      "Masked array 1:\n",
      " [[0.         0.         0.         0.53085569 0.23272833]\n",
      " [0.         0.         0.         0.52267467 0.4783918 ]\n",
      " [0.         0.         0.         0.71237457 0.6196821 ]\n",
      " [0.         0.         0.         0.33377405 0.21880106]\n",
      " [0.         0.         0.         0.32213079 0.07094284]]\n",
      "Masked array 2:\n",
      " [[0.8734294  0.96854066 0.86919454 0.53085569 0.        ]\n",
      " [0.         0.         0.         0.52267467 0.        ]\n",
      " [0.55535647 0.54338602 0.76089558 0.71237457 0.6196821 ]\n",
      " [0.         0.         0.97385524 0.         0.        ]\n",
      " [0.         0.98287055 0.         0.         0.        ]]\n",
      "Masked array 3:\n",
      " [[0.         0.96854066 0.         0.53085569 0.        ]\n",
      " [0.         0.         0.         0.52267467 0.        ]\n",
      " [0.55535647 0.54338602 0.76089558 0.71237457 0.        ]\n",
      " [0.         0.         0.97385524 0.33377405 0.        ]\n",
      " [0.         0.98287055 0.12785571 0.32213079 0.        ]]\n"
     ]
    }
   ],
   "execution_count": 177
  },
  {
   "cell_type": "code",
   "id": "i-4APQuJKvvF",
   "metadata": {
    "id": "i-4APQuJKvvF",
    "ExecuteTime": {
     "end_time": "2025-09-02T19:40:51.166315Z",
     "start_time": "2025-09-02T19:40:51.159175Z"
    }
   },
   "source": [
    "correct_mask1 = np.array([[0.        , 0.        , 0.        , 0.53085569, 0.23272833],\n",
    "       [0.        , 0.        , 0.        , 0.52267467, 0.4783918 ],\n",
    "       [0.        , 0.        , 0.        , 0.71237457, 0.6196821 ],\n",
    "       [0.        , 0.        , 0.        , 0.33377405, 0.21880106],\n",
    "       [0.        , 0.        , 0.        , 0.32213079, 0.07094284]])\n",
    "correct_mask2 = np.array([[0.8734294 , 0.96854066, 0.86919454, 0.53085569, 0.        ],\n",
    "       [0.        , 0.        , 0.        , 0.52267467, 0.        ],\n",
    "       [0.55535647, 0.54338602, 0.76089558, 0.71237457, 0.6196821 ],\n",
    "       [0.        , 0.        , 0.97385524, 0.        , 0.        ],\n",
    "       [0.        , 0.98287055, 0.        , 0.        , 0.        ]])\n",
    "correct_mask3 = np.array([[0.        , 0.96854066, 0.        , 0.53085569, 0.        ],\n",
    "       [0.        , 0.        , 0.        , 0.52267467, 0.        ],\n",
    "       [0.55535647, 0.54338602, 0.76089558, 0.71237457, 0.        ],\n",
    "       [0.        , 0.        , 0.97385524, 0.33377405, 0.        ],\n",
    "       [0.        , 0.98287055, 0.12785571, 0.32213079, 0.        ]])\n",
    "\n",
    "assert np.sum(np.abs(masked_array1 - correct_mask1)) < 1e-7\n",
    "assert np.sum(np.abs(masked_array2 - correct_mask2)) < 1e-7\n",
    "assert np.sum(np.abs(masked_array3 - correct_mask3)) < 1e-7"
   ],
   "outputs": [],
   "execution_count": 178
  },
  {
   "cell_type": "markdown",
   "id": "8EJBuRBrMw4a",
   "metadata": {
    "id": "8EJBuRBrMw4a"
   },
   "source": [
    "### Problem 2 Setup (1 points)\n",
    "\n",
    "In modern ML, we often use matrices and tensors when dealing with image data. A simple image task consists of applying a [kernel](https://en.wikipedia.org/wiki/Kernel_(image_processing)).\n",
    "\n",
    "For this exercise we first generate a 7x7 grayscale image:\n",
    "1. Create a vector of the first 49 consecutive numbers (0 included)\n",
    "2. Reshape it and make it a 7x7 matrix"
   ]
  },
  {
   "cell_type": "code",
   "id": "mHzT_jfiM4z2",
   "metadata": {
    "id": "mHzT_jfiM4z2",
    "ExecuteTime": {
     "end_time": "2025-09-02T19:40:51.184838Z",
     "start_time": "2025-09-02T19:40:51.180813Z"
    }
   },
   "source": [
    "vector = np.arange(49)\n",
    "\n",
    "test_image = vector.reshape(7, 7)\n",
    "\n",
    "print(test_image)"
   ],
   "outputs": [
    {
     "name": "stdout",
     "output_type": "stream",
     "text": [
      "[[ 0  1  2  3  4  5  6]\n",
      " [ 7  8  9 10 11 12 13]\n",
      " [14 15 16 17 18 19 20]\n",
      " [21 22 23 24 25 26 27]\n",
      " [28 29 30 31 32 33 34]\n",
      " [35 36 37 38 39 40 41]\n",
      " [42 43 44 45 46 47 48]]\n"
     ]
    }
   ],
   "execution_count": 179
  },
  {
   "cell_type": "code",
   "id": "lwm2rVzrQ6Kk",
   "metadata": {
    "id": "lwm2rVzrQ6Kk",
    "ExecuteTime": {
     "end_time": "2025-09-02T19:40:51.225391Z",
     "start_time": "2025-09-02T19:40:51.222211Z"
    }
   },
   "source": [
    "correct_answer = np.array([[ 0,  1,  2,  3,  4,  5,  6],\n",
    "       [ 7,  8,  9, 10, 11, 12, 13],\n",
    "       [14, 15, 16, 17, 18, 19, 20],\n",
    "       [21, 22, 23, 24, 25, 26, 27],\n",
    "       [28, 29, 30, 31, 32, 33, 34],\n",
    "       [35, 36, 37, 38, 39, 40, 41],\n",
    "       [42, 43, 44, 45, 46, 47, 48]])\n",
    "\n",
    "assert np.sum(np.abs(test_image - correct_answer)) < 1e-7"
   ],
   "outputs": [],
   "execution_count": 180
  },
  {
   "cell_type": "markdown",
   "id": "jc3AabCHU8GQ",
   "metadata": {
    "id": "jc3AabCHU8GQ"
   },
   "source": [
    "### Problem 2 (3 points)\n",
    "\n",
    "We now will create a function to apply a so-called box filter of size 3 x 3. When applied to an image, the filter will modify each pixel by rounding down the average of the pixel and the eight surrounding pixels.  If one or more of the surrounding pixels is not present, we do not consider it in the average.\n",
    "\n",
    "An example is\n",
    "$$\n",
    "\\begin{bmatrix}\n",
    "  1 & 2 & 3 & 4 \\\\\n",
    "  5 & 6 & 7 & 8 \\\\\n",
    "  9 & 10 & 11 & 12 \\\\\n",
    "  13 & 14 & 15 & 16\n",
    "\\end{bmatrix} \\longrightarrow \\begin{bmatrix}\n",
    "  3 & 4 & 5 & 5 \\\\\n",
    "  6 & 7 & 8 & 8 \\\\\n",
    "  9 & 10 & 11 & 11 \\\\\n",
    "  11 & 12 & 13 & 13\n",
    "\\end{bmatrix}\n",
    "$$\n",
    "\n",
    "\n",
    "For the cell containing 4, the calculation is given by\n",
    "$$\n",
    "(3+4+7+8) / 4 = 5.5 \\rightarrow 5\n",
    "$$\n",
    "\n",
    "\n",
    "For the cell containing 15, the calculation is given by\n",
    "$$\n",
    "(10+11+12+14+15+16) / 6 = 13\n",
    "$$\n",
    "\n",
    "Write a function that takes in a matrix and computes the smoothed out version."
   ]
  },
  {
   "cell_type": "code",
   "id": "JbRCtzaYTiUG",
   "metadata": {
    "id": "JbRCtzaYTiUG",
    "ExecuteTime": {
     "end_time": "2025-09-02T19:40:51.237924Z",
     "start_time": "2025-09-02T19:40:51.234077Z"
    }
   },
   "source": [
    "def box_filter(image: np.ndarray) -> np.ndarray:\n",
    "    rows, cols = image.shape\n",
    "    result = np.zeros_like(image, dtype=int)\n",
    "\n",
    "    for i in range(rows):\n",
    "        for j in range(cols):\n",
    "            row_min = max(0, i-1)\n",
    "            row_max = min(rows, i+2)\n",
    "            col_min = max(0, j-1)\n",
    "            col_max = min(cols, j+2)\n",
    "\n",
    "            neighbors = image[row_min:row_max, col_min:col_max]\n",
    "\n",
    "            result[i, j] = int(np.floor(neighbors.mean()))\n",
    "\n",
    "    return result"
   ],
   "outputs": [],
   "execution_count": 181
  },
  {
   "cell_type": "code",
   "id": "m5CMMkiFYF-9",
   "metadata": {
    "id": "m5CMMkiFYF-9",
    "ExecuteTime": {
     "end_time": "2025-09-02T19:40:51.250949Z",
     "start_time": "2025-09-02T19:40:51.246371Z"
    }
   },
   "source": [
    "smoothed_image = box_filter(test_image)\n",
    "smoothed_image"
   ],
   "outputs": [
    {
     "data": {
      "text/plain": [
       "array([[ 4,  4,  5,  6,  7,  8,  9],\n",
       "       [ 7,  8,  9, 10, 11, 12, 12],\n",
       "       [14, 15, 16, 17, 18, 19, 19],\n",
       "       [21, 22, 23, 24, 25, 26, 26],\n",
       "       [28, 29, 30, 31, 32, 33, 33],\n",
       "       [35, 36, 37, 38, 39, 40, 40],\n",
       "       [39, 39, 40, 41, 42, 43, 44]])"
      ]
     },
     "execution_count": 182,
     "metadata": {},
     "output_type": "execute_result"
    }
   ],
   "execution_count": 182
  },
  {
   "cell_type": "code",
   "id": "hG9OGjHjYH91",
   "metadata": {
    "id": "hG9OGjHjYH91",
    "ExecuteTime": {
     "end_time": "2025-09-02T19:40:51.271280Z",
     "start_time": "2025-09-02T19:40:51.268531Z"
    }
   },
   "source": [
    "correct_answer = np.array([[ 4,  4,  5,  6,  7,  8,  9],\n",
    "       [ 7,  8,  9, 10, 11, 12, 12],\n",
    "       [14, 15, 16, 17, 18, 19, 19],\n",
    "       [21, 22, 23, 24, 25, 26, 26],\n",
    "       [28, 29, 30, 31, 32, 33, 33],\n",
    "       [35, 36, 37, 38, 39, 40, 40],\n",
    "       [39, 39, 40, 41, 42, 43, 44]])\n",
    "\n",
    "assert np.sum(np.abs(smoothed_image - correct_answer)) < 1e-7"
   ],
   "outputs": [],
   "execution_count": 183
  },
  {
   "cell_type": "markdown",
   "id": "wWeCFy-FbYow",
   "metadata": {
    "id": "wWeCFy-FbYow"
   },
   "source": [
    "### Problem 3 Setup (NO POINTS)\n",
    "**DO NOT MODIFY** the setup cells."
   ]
  },
  {
   "cell_type": "code",
   "id": "mhUpF8rwaZe5",
   "metadata": {
    "id": "mhUpF8rwaZe5",
    "ExecuteTime": {
     "end_time": "2025-09-02T19:41:50.899972Z",
     "start_time": "2025-09-02T19:41:50.058332Z"
    }
   },
   "source": [
    "import torchvision\n",
    "import torchvision.transforms as transforms\n",
    "import matplotlib.pyplot as plt\n",
    "import numpy as np\n",
    "\n",
    "# Define the transformation pipeline (convert to tensor, no resizing)\n",
    "transform = transforms.Compose([\n",
    "    transforms.ToTensor()  # Convert the image to a tensor\n",
    "])\n",
    "\n",
    "# Download the Caltech101 dataset\n",
    "caltech101_dataset = torchvision.datasets.Caltech101(\n",
    "    root='./data',\n",
    "    download=True,\n",
    "    transform=transform\n",
    ")\n",
    "# Get a single image and its label\n",
    "rgb_image, label = caltech101_dataset[35]\n",
    "\n",
    "# Convert the image tensor to a NumPy matrix\n",
    "rgb_image = np.transpose((rgb_image.numpy() * 255).astype(np.uint8), (1, 2, 0))"
   ],
   "outputs": [
    {
     "ename": "HTTPError",
     "evalue": "HTTP Error 404: Not Found",
     "output_type": "error",
     "traceback": [
      "\u001B[31m---------------------------------------------------------------------------\u001B[39m",
      "\u001B[31mHTTPError\u001B[39m                                 Traceback (most recent call last)",
      "\u001B[36mCell\u001B[39m\u001B[36m \u001B[39m\u001B[32mIn[187]\u001B[39m\u001B[32m, line 12\u001B[39m\n\u001B[32m      7\u001B[39m transform = transforms.Compose([\n\u001B[32m      8\u001B[39m     transforms.ToTensor()  \u001B[38;5;66;03m# Convert the image to a tensor\u001B[39;00m\n\u001B[32m      9\u001B[39m ])\n\u001B[32m     11\u001B[39m \u001B[38;5;66;03m# Download the Caltech101 dataset\u001B[39;00m\n\u001B[32m---> \u001B[39m\u001B[32m12\u001B[39m caltech101_dataset = \u001B[43mtorchvision\u001B[49m\u001B[43m.\u001B[49m\u001B[43mdatasets\u001B[49m\u001B[43m.\u001B[49m\u001B[43mCaltech101\u001B[49m\u001B[43m(\u001B[49m\n\u001B[32m     13\u001B[39m \u001B[43m    \u001B[49m\u001B[43mroot\u001B[49m\u001B[43m=\u001B[49m\u001B[33;43m'\u001B[39;49m\u001B[33;43m./data\u001B[39;49m\u001B[33;43m'\u001B[39;49m\u001B[43m,\u001B[49m\n\u001B[32m     14\u001B[39m \u001B[43m    \u001B[49m\u001B[43mdownload\u001B[49m\u001B[43m=\u001B[49m\u001B[38;5;28;43;01mTrue\u001B[39;49;00m\u001B[43m,\u001B[49m\n\u001B[32m     15\u001B[39m \u001B[43m    \u001B[49m\u001B[43mtransform\u001B[49m\u001B[43m=\u001B[49m\u001B[43mtransform\u001B[49m\n\u001B[32m     16\u001B[39m \u001B[43m)\u001B[49m\n\u001B[32m     17\u001B[39m \u001B[38;5;66;03m# Get a single image and its label\u001B[39;00m\n\u001B[32m     18\u001B[39m rgb_image, label = caltech101_dataset[\u001B[32m35\u001B[39m]\n",
      "\u001B[36mFile \u001B[39m\u001B[32m~\\AppData\\Local\\Programs\\Python\\Python313\\Lib\\site-packages\\torchvision\\datasets\\caltech.py:55\u001B[39m, in \u001B[36mCaltech101.__init__\u001B[39m\u001B[34m(self, root, target_type, transform, target_transform, download)\u001B[39m\n\u001B[32m     52\u001B[39m \u001B[38;5;28mself\u001B[39m.target_type = [verify_str_arg(t, \u001B[33m\"\u001B[39m\u001B[33mtarget_type\u001B[39m\u001B[33m\"\u001B[39m, (\u001B[33m\"\u001B[39m\u001B[33mcategory\u001B[39m\u001B[33m\"\u001B[39m, \u001B[33m\"\u001B[39m\u001B[33mannotation\u001B[39m\u001B[33m\"\u001B[39m)) \u001B[38;5;28;01mfor\u001B[39;00m t \u001B[38;5;129;01min\u001B[39;00m target_type]\n\u001B[32m     54\u001B[39m \u001B[38;5;28;01mif\u001B[39;00m download:\n\u001B[32m---> \u001B[39m\u001B[32m55\u001B[39m     \u001B[38;5;28;43mself\u001B[39;49m\u001B[43m.\u001B[49m\u001B[43mdownload\u001B[49m\u001B[43m(\u001B[49m\u001B[43m)\u001B[49m\n\u001B[32m     57\u001B[39m \u001B[38;5;28;01mif\u001B[39;00m \u001B[38;5;129;01mnot\u001B[39;00m \u001B[38;5;28mself\u001B[39m._check_integrity():\n\u001B[32m     58\u001B[39m     \u001B[38;5;28;01mraise\u001B[39;00m \u001B[38;5;167;01mRuntimeError\u001B[39;00m(\u001B[33m\"\u001B[39m\u001B[33mDataset not found or corrupted. You can use download=True to download it\u001B[39m\u001B[33m\"\u001B[39m)\n",
      "\u001B[36mFile \u001B[39m\u001B[32m~\\AppData\\Local\\Programs\\Python\\Python313\\Lib\\site-packages\\torchvision\\datasets\\caltech.py:135\u001B[39m, in \u001B[36mCaltech101.download\u001B[39m\u001B[34m(self)\u001B[39m\n\u001B[32m    132\u001B[39m \u001B[38;5;28;01mif\u001B[39;00m \u001B[38;5;28mself\u001B[39m._check_integrity():\n\u001B[32m    133\u001B[39m     \u001B[38;5;28;01mreturn\u001B[39;00m\n\u001B[32m--> \u001B[39m\u001B[32m135\u001B[39m \u001B[43mdownload_and_extract_archive\u001B[49m\u001B[43m(\u001B[49m\n\u001B[32m    136\u001B[39m \u001B[43m    \u001B[49m\u001B[33;43m\"\u001B[39;49m\u001B[33;43mhttps://drive.google.com/file/d/137RyRjvTBkBiIfeYBNZBtViDHQ6_Ewsp\u001B[39;49m\u001B[33;43m\"\u001B[39;49m\u001B[43m,\u001B[49m\n\u001B[32m    137\u001B[39m \u001B[43m    \u001B[49m\u001B[38;5;28;43mself\u001B[39;49m\u001B[43m.\u001B[49m\u001B[43mroot\u001B[49m\u001B[43m,\u001B[49m\n\u001B[32m    138\u001B[39m \u001B[43m    \u001B[49m\u001B[43mfilename\u001B[49m\u001B[43m=\u001B[49m\u001B[33;43m\"\u001B[39;49m\u001B[33;43m101_ObjectCategories.tar.gz\u001B[39;49m\u001B[33;43m\"\u001B[39;49m\u001B[43m,\u001B[49m\n\u001B[32m    139\u001B[39m \u001B[43m    \u001B[49m\u001B[43mmd5\u001B[49m\u001B[43m=\u001B[49m\u001B[33;43m\"\u001B[39;49m\u001B[33;43mb224c7392d521a49829488ab0f1120d9\u001B[39;49m\u001B[33;43m\"\u001B[39;49m\u001B[43m,\u001B[49m\n\u001B[32m    140\u001B[39m \u001B[43m\u001B[49m\u001B[43m)\u001B[49m\n\u001B[32m    141\u001B[39m download_and_extract_archive(\n\u001B[32m    142\u001B[39m     \u001B[33m\"\u001B[39m\u001B[33mhttps://drive.google.com/file/d/175kQy3UsZ0wUEHZjqkUDdNVssr7bgh_m\u001B[39m\u001B[33m\"\u001B[39m,\n\u001B[32m    143\u001B[39m     \u001B[38;5;28mself\u001B[39m.root,\n\u001B[32m    144\u001B[39m     filename=\u001B[33m\"\u001B[39m\u001B[33mAnnotations.tar\u001B[39m\u001B[33m\"\u001B[39m,\n\u001B[32m    145\u001B[39m     md5=\u001B[33m\"\u001B[39m\u001B[33m6f83eeb1f24d99cab4eb377263132c91\u001B[39m\u001B[33m\"\u001B[39m,\n\u001B[32m    146\u001B[39m )\n",
      "\u001B[36mFile \u001B[39m\u001B[32m~\\AppData\\Local\\Programs\\Python\\Python313\\Lib\\site-packages\\torchvision\\datasets\\utils.py:388\u001B[39m, in \u001B[36mdownload_and_extract_archive\u001B[39m\u001B[34m(url, download_root, extract_root, filename, md5, remove_finished)\u001B[39m\n\u001B[32m    385\u001B[39m \u001B[38;5;28;01mif\u001B[39;00m \u001B[38;5;129;01mnot\u001B[39;00m filename:\n\u001B[32m    386\u001B[39m     filename = os.path.basename(url)\n\u001B[32m--> \u001B[39m\u001B[32m388\u001B[39m \u001B[43mdownload_url\u001B[49m\u001B[43m(\u001B[49m\u001B[43murl\u001B[49m\u001B[43m,\u001B[49m\u001B[43m \u001B[49m\u001B[43mdownload_root\u001B[49m\u001B[43m,\u001B[49m\u001B[43m \u001B[49m\u001B[43mfilename\u001B[49m\u001B[43m,\u001B[49m\u001B[43m \u001B[49m\u001B[43mmd5\u001B[49m\u001B[43m)\u001B[49m\n\u001B[32m    390\u001B[39m archive = os.path.join(download_root, filename)\n\u001B[32m    391\u001B[39m extract_archive(archive, extract_root, remove_finished)\n",
      "\u001B[36mFile \u001B[39m\u001B[32m~\\AppData\\Local\\Programs\\Python\\Python313\\Lib\\site-packages\\torchvision\\datasets\\utils.py:118\u001B[39m, in \u001B[36mdownload_url\u001B[39m\u001B[34m(url, root, filename, md5, max_redirect_hops)\u001B[39m\n\u001B[32m    115\u001B[39m     _download_file_from_remote_location(fpath, url)\n\u001B[32m    116\u001B[39m \u001B[38;5;28;01melse\u001B[39;00m:\n\u001B[32m    117\u001B[39m     \u001B[38;5;66;03m# expand redirect chain if needed\u001B[39;00m\n\u001B[32m--> \u001B[39m\u001B[32m118\u001B[39m     url = \u001B[43m_get_redirect_url\u001B[49m\u001B[43m(\u001B[49m\u001B[43murl\u001B[49m\u001B[43m,\u001B[49m\u001B[43m \u001B[49m\u001B[43mmax_hops\u001B[49m\u001B[43m=\u001B[49m\u001B[43mmax_redirect_hops\u001B[49m\u001B[43m)\u001B[49m\n\u001B[32m    120\u001B[39m     \u001B[38;5;66;03m# check if file is located on Google Drive\u001B[39;00m\n\u001B[32m    121\u001B[39m     file_id = _get_google_drive_file_id(url)\n",
      "\u001B[36mFile \u001B[39m\u001B[32m~\\AppData\\Local\\Programs\\Python\\Python313\\Lib\\site-packages\\torchvision\\datasets\\utils.py:63\u001B[39m, in \u001B[36m_get_redirect_url\u001B[39m\u001B[34m(url, max_hops)\u001B[39m\n\u001B[32m     60\u001B[39m headers = {\u001B[33m\"\u001B[39m\u001B[33mMethod\u001B[39m\u001B[33m\"\u001B[39m: \u001B[33m\"\u001B[39m\u001B[33mHEAD\u001B[39m\u001B[33m\"\u001B[39m, \u001B[33m\"\u001B[39m\u001B[33mUser-Agent\u001B[39m\u001B[33m\"\u001B[39m: USER_AGENT}\n\u001B[32m     62\u001B[39m \u001B[38;5;28;01mfor\u001B[39;00m _ \u001B[38;5;129;01min\u001B[39;00m \u001B[38;5;28mrange\u001B[39m(max_hops + \u001B[32m1\u001B[39m):\n\u001B[32m---> \u001B[39m\u001B[32m63\u001B[39m     \u001B[38;5;28;01mwith\u001B[39;00m \u001B[43murllib\u001B[49m\u001B[43m.\u001B[49m\u001B[43mrequest\u001B[49m\u001B[43m.\u001B[49m\u001B[43murlopen\u001B[49m\u001B[43m(\u001B[49m\u001B[43murllib\u001B[49m\u001B[43m.\u001B[49m\u001B[43mrequest\u001B[49m\u001B[43m.\u001B[49m\u001B[43mRequest\u001B[49m\u001B[43m(\u001B[49m\u001B[43murl\u001B[49m\u001B[43m,\u001B[49m\u001B[43m \u001B[49m\u001B[43mheaders\u001B[49m\u001B[43m=\u001B[49m\u001B[43mheaders\u001B[49m\u001B[43m)\u001B[49m\u001B[43m)\u001B[49m \u001B[38;5;28;01mas\u001B[39;00m response:\n\u001B[32m     64\u001B[39m         \u001B[38;5;28;01mif\u001B[39;00m response.url == url \u001B[38;5;129;01mor\u001B[39;00m response.url \u001B[38;5;129;01mis\u001B[39;00m \u001B[38;5;28;01mNone\u001B[39;00m:\n\u001B[32m     65\u001B[39m             \u001B[38;5;28;01mreturn\u001B[39;00m url\n",
      "\u001B[36mFile \u001B[39m\u001B[32m~\\AppData\\Local\\Programs\\Python\\Python313\\Lib\\urllib\\request.py:189\u001B[39m, in \u001B[36murlopen\u001B[39m\u001B[34m(url, data, timeout, context)\u001B[39m\n\u001B[32m    187\u001B[39m \u001B[38;5;28;01melse\u001B[39;00m:\n\u001B[32m    188\u001B[39m     opener = _opener\n\u001B[32m--> \u001B[39m\u001B[32m189\u001B[39m \u001B[38;5;28;01mreturn\u001B[39;00m \u001B[43mopener\u001B[49m\u001B[43m.\u001B[49m\u001B[43mopen\u001B[49m\u001B[43m(\u001B[49m\u001B[43murl\u001B[49m\u001B[43m,\u001B[49m\u001B[43m \u001B[49m\u001B[43mdata\u001B[49m\u001B[43m,\u001B[49m\u001B[43m \u001B[49m\u001B[43mtimeout\u001B[49m\u001B[43m)\u001B[49m\n",
      "\u001B[36mFile \u001B[39m\u001B[32m~\\AppData\\Local\\Programs\\Python\\Python313\\Lib\\urllib\\request.py:495\u001B[39m, in \u001B[36mOpenerDirector.open\u001B[39m\u001B[34m(self, fullurl, data, timeout)\u001B[39m\n\u001B[32m    493\u001B[39m \u001B[38;5;28;01mfor\u001B[39;00m processor \u001B[38;5;129;01min\u001B[39;00m \u001B[38;5;28mself\u001B[39m.process_response.get(protocol, []):\n\u001B[32m    494\u001B[39m     meth = \u001B[38;5;28mgetattr\u001B[39m(processor, meth_name)\n\u001B[32m--> \u001B[39m\u001B[32m495\u001B[39m     response = \u001B[43mmeth\u001B[49m\u001B[43m(\u001B[49m\u001B[43mreq\u001B[49m\u001B[43m,\u001B[49m\u001B[43m \u001B[49m\u001B[43mresponse\u001B[49m\u001B[43m)\u001B[49m\n\u001B[32m    497\u001B[39m \u001B[38;5;28;01mreturn\u001B[39;00m response\n",
      "\u001B[36mFile \u001B[39m\u001B[32m~\\AppData\\Local\\Programs\\Python\\Python313\\Lib\\urllib\\request.py:604\u001B[39m, in \u001B[36mHTTPErrorProcessor.http_response\u001B[39m\u001B[34m(self, request, response)\u001B[39m\n\u001B[32m    601\u001B[39m \u001B[38;5;66;03m# According to RFC 2616, \"2xx\" code indicates that the client's\u001B[39;00m\n\u001B[32m    602\u001B[39m \u001B[38;5;66;03m# request was successfully received, understood, and accepted.\u001B[39;00m\n\u001B[32m    603\u001B[39m \u001B[38;5;28;01mif\u001B[39;00m \u001B[38;5;129;01mnot\u001B[39;00m (\u001B[32m200\u001B[39m <= code < \u001B[32m300\u001B[39m):\n\u001B[32m--> \u001B[39m\u001B[32m604\u001B[39m     response = \u001B[38;5;28;43mself\u001B[39;49m\u001B[43m.\u001B[49m\u001B[43mparent\u001B[49m\u001B[43m.\u001B[49m\u001B[43merror\u001B[49m\u001B[43m(\u001B[49m\n\u001B[32m    605\u001B[39m \u001B[43m        \u001B[49m\u001B[33;43m'\u001B[39;49m\u001B[33;43mhttp\u001B[39;49m\u001B[33;43m'\u001B[39;49m\u001B[43m,\u001B[49m\u001B[43m \u001B[49m\u001B[43mrequest\u001B[49m\u001B[43m,\u001B[49m\u001B[43m \u001B[49m\u001B[43mresponse\u001B[49m\u001B[43m,\u001B[49m\u001B[43m \u001B[49m\u001B[43mcode\u001B[49m\u001B[43m,\u001B[49m\u001B[43m \u001B[49m\u001B[43mmsg\u001B[49m\u001B[43m,\u001B[49m\u001B[43m \u001B[49m\u001B[43mhdrs\u001B[49m\u001B[43m)\u001B[49m\n\u001B[32m    607\u001B[39m \u001B[38;5;28;01mreturn\u001B[39;00m response\n",
      "\u001B[36mFile \u001B[39m\u001B[32m~\\AppData\\Local\\Programs\\Python\\Python313\\Lib\\urllib\\request.py:527\u001B[39m, in \u001B[36mOpenerDirector.error\u001B[39m\u001B[34m(self, proto, *args)\u001B[39m\n\u001B[32m    525\u001B[39m     http_err = \u001B[32m0\u001B[39m\n\u001B[32m    526\u001B[39m args = (\u001B[38;5;28mdict\u001B[39m, proto, meth_name) + args\n\u001B[32m--> \u001B[39m\u001B[32m527\u001B[39m result = \u001B[38;5;28;43mself\u001B[39;49m\u001B[43m.\u001B[49m\u001B[43m_call_chain\u001B[49m\u001B[43m(\u001B[49m\u001B[43m*\u001B[49m\u001B[43margs\u001B[49m\u001B[43m)\u001B[49m\n\u001B[32m    528\u001B[39m \u001B[38;5;28;01mif\u001B[39;00m result:\n\u001B[32m    529\u001B[39m     \u001B[38;5;28;01mreturn\u001B[39;00m result\n",
      "\u001B[36mFile \u001B[39m\u001B[32m~\\AppData\\Local\\Programs\\Python\\Python313\\Lib\\urllib\\request.py:466\u001B[39m, in \u001B[36mOpenerDirector._call_chain\u001B[39m\u001B[34m(self, chain, kind, meth_name, *args)\u001B[39m\n\u001B[32m    464\u001B[39m \u001B[38;5;28;01mfor\u001B[39;00m handler \u001B[38;5;129;01min\u001B[39;00m handlers:\n\u001B[32m    465\u001B[39m     func = \u001B[38;5;28mgetattr\u001B[39m(handler, meth_name)\n\u001B[32m--> \u001B[39m\u001B[32m466\u001B[39m     result = \u001B[43mfunc\u001B[49m\u001B[43m(\u001B[49m\u001B[43m*\u001B[49m\u001B[43margs\u001B[49m\u001B[43m)\u001B[49m\n\u001B[32m    467\u001B[39m     \u001B[38;5;28;01mif\u001B[39;00m result \u001B[38;5;129;01mis\u001B[39;00m \u001B[38;5;129;01mnot\u001B[39;00m \u001B[38;5;28;01mNone\u001B[39;00m:\n\u001B[32m    468\u001B[39m         \u001B[38;5;28;01mreturn\u001B[39;00m result\n",
      "\u001B[36mFile \u001B[39m\u001B[32m~\\AppData\\Local\\Programs\\Python\\Python313\\Lib\\urllib\\request.py:720\u001B[39m, in \u001B[36mHTTPRedirectHandler.http_error_302\u001B[39m\u001B[34m(self, req, fp, code, msg, headers)\u001B[39m\n\u001B[32m    717\u001B[39m fp.read()\n\u001B[32m    718\u001B[39m fp.close()\n\u001B[32m--> \u001B[39m\u001B[32m720\u001B[39m \u001B[38;5;28;01mreturn\u001B[39;00m \u001B[38;5;28;43mself\u001B[39;49m\u001B[43m.\u001B[49m\u001B[43mparent\u001B[49m\u001B[43m.\u001B[49m\u001B[43mopen\u001B[49m\u001B[43m(\u001B[49m\u001B[43mnew\u001B[49m\u001B[43m,\u001B[49m\u001B[43m \u001B[49m\u001B[43mtimeout\u001B[49m\u001B[43m=\u001B[49m\u001B[43mreq\u001B[49m\u001B[43m.\u001B[49m\u001B[43mtimeout\u001B[49m\u001B[43m)\u001B[49m\n",
      "\u001B[36mFile \u001B[39m\u001B[32m~\\AppData\\Local\\Programs\\Python\\Python313\\Lib\\urllib\\request.py:495\u001B[39m, in \u001B[36mOpenerDirector.open\u001B[39m\u001B[34m(self, fullurl, data, timeout)\u001B[39m\n\u001B[32m    493\u001B[39m \u001B[38;5;28;01mfor\u001B[39;00m processor \u001B[38;5;129;01min\u001B[39;00m \u001B[38;5;28mself\u001B[39m.process_response.get(protocol, []):\n\u001B[32m    494\u001B[39m     meth = \u001B[38;5;28mgetattr\u001B[39m(processor, meth_name)\n\u001B[32m--> \u001B[39m\u001B[32m495\u001B[39m     response = \u001B[43mmeth\u001B[49m\u001B[43m(\u001B[49m\u001B[43mreq\u001B[49m\u001B[43m,\u001B[49m\u001B[43m \u001B[49m\u001B[43mresponse\u001B[49m\u001B[43m)\u001B[49m\n\u001B[32m    497\u001B[39m \u001B[38;5;28;01mreturn\u001B[39;00m response\n",
      "\u001B[36mFile \u001B[39m\u001B[32m~\\AppData\\Local\\Programs\\Python\\Python313\\Lib\\urllib\\request.py:604\u001B[39m, in \u001B[36mHTTPErrorProcessor.http_response\u001B[39m\u001B[34m(self, request, response)\u001B[39m\n\u001B[32m    601\u001B[39m \u001B[38;5;66;03m# According to RFC 2616, \"2xx\" code indicates that the client's\u001B[39;00m\n\u001B[32m    602\u001B[39m \u001B[38;5;66;03m# request was successfully received, understood, and accepted.\u001B[39;00m\n\u001B[32m    603\u001B[39m \u001B[38;5;28;01mif\u001B[39;00m \u001B[38;5;129;01mnot\u001B[39;00m (\u001B[32m200\u001B[39m <= code < \u001B[32m300\u001B[39m):\n\u001B[32m--> \u001B[39m\u001B[32m604\u001B[39m     response = \u001B[38;5;28;43mself\u001B[39;49m\u001B[43m.\u001B[49m\u001B[43mparent\u001B[49m\u001B[43m.\u001B[49m\u001B[43merror\u001B[49m\u001B[43m(\u001B[49m\n\u001B[32m    605\u001B[39m \u001B[43m        \u001B[49m\u001B[33;43m'\u001B[39;49m\u001B[33;43mhttp\u001B[39;49m\u001B[33;43m'\u001B[39;49m\u001B[43m,\u001B[49m\u001B[43m \u001B[49m\u001B[43mrequest\u001B[49m\u001B[43m,\u001B[49m\u001B[43m \u001B[49m\u001B[43mresponse\u001B[49m\u001B[43m,\u001B[49m\u001B[43m \u001B[49m\u001B[43mcode\u001B[49m\u001B[43m,\u001B[49m\u001B[43m \u001B[49m\u001B[43mmsg\u001B[49m\u001B[43m,\u001B[49m\u001B[43m \u001B[49m\u001B[43mhdrs\u001B[49m\u001B[43m)\u001B[49m\n\u001B[32m    607\u001B[39m \u001B[38;5;28;01mreturn\u001B[39;00m response\n",
      "\u001B[36mFile \u001B[39m\u001B[32m~\\AppData\\Local\\Programs\\Python\\Python313\\Lib\\urllib\\request.py:533\u001B[39m, in \u001B[36mOpenerDirector.error\u001B[39m\u001B[34m(self, proto, *args)\u001B[39m\n\u001B[32m    531\u001B[39m \u001B[38;5;28;01mif\u001B[39;00m http_err:\n\u001B[32m    532\u001B[39m     args = (\u001B[38;5;28mdict\u001B[39m, \u001B[33m'\u001B[39m\u001B[33mdefault\u001B[39m\u001B[33m'\u001B[39m, \u001B[33m'\u001B[39m\u001B[33mhttp_error_default\u001B[39m\u001B[33m'\u001B[39m) + orig_args\n\u001B[32m--> \u001B[39m\u001B[32m533\u001B[39m     \u001B[38;5;28;01mreturn\u001B[39;00m \u001B[38;5;28;43mself\u001B[39;49m\u001B[43m.\u001B[49m\u001B[43m_call_chain\u001B[49m\u001B[43m(\u001B[49m\u001B[43m*\u001B[49m\u001B[43margs\u001B[49m\u001B[43m)\u001B[49m\n",
      "\u001B[36mFile \u001B[39m\u001B[32m~\\AppData\\Local\\Programs\\Python\\Python313\\Lib\\urllib\\request.py:466\u001B[39m, in \u001B[36mOpenerDirector._call_chain\u001B[39m\u001B[34m(self, chain, kind, meth_name, *args)\u001B[39m\n\u001B[32m    464\u001B[39m \u001B[38;5;28;01mfor\u001B[39;00m handler \u001B[38;5;129;01min\u001B[39;00m handlers:\n\u001B[32m    465\u001B[39m     func = \u001B[38;5;28mgetattr\u001B[39m(handler, meth_name)\n\u001B[32m--> \u001B[39m\u001B[32m466\u001B[39m     result = \u001B[43mfunc\u001B[49m\u001B[43m(\u001B[49m\u001B[43m*\u001B[49m\u001B[43margs\u001B[49m\u001B[43m)\u001B[49m\n\u001B[32m    467\u001B[39m     \u001B[38;5;28;01mif\u001B[39;00m result \u001B[38;5;129;01mis\u001B[39;00m \u001B[38;5;129;01mnot\u001B[39;00m \u001B[38;5;28;01mNone\u001B[39;00m:\n\u001B[32m    468\u001B[39m         \u001B[38;5;28;01mreturn\u001B[39;00m result\n",
      "\u001B[36mFile \u001B[39m\u001B[32m~\\AppData\\Local\\Programs\\Python\\Python313\\Lib\\urllib\\request.py:613\u001B[39m, in \u001B[36mHTTPDefaultErrorHandler.http_error_default\u001B[39m\u001B[34m(self, req, fp, code, msg, hdrs)\u001B[39m\n\u001B[32m    612\u001B[39m \u001B[38;5;28;01mdef\u001B[39;00m\u001B[38;5;250m \u001B[39m\u001B[34mhttp_error_default\u001B[39m(\u001B[38;5;28mself\u001B[39m, req, fp, code, msg, hdrs):\n\u001B[32m--> \u001B[39m\u001B[32m613\u001B[39m     \u001B[38;5;28;01mraise\u001B[39;00m HTTPError(req.full_url, code, msg, hdrs, fp)\n",
      "\u001B[31mHTTPError\u001B[39m: HTTP Error 404: Not Found"
     ]
    }
   ],
   "execution_count": 187
  },
  {
   "cell_type": "code",
   "id": "vnlDGstVcOVR",
   "metadata": {
    "id": "vnlDGstVcOVR",
    "ExecuteTime": {
     "end_time": "2025-09-02T19:40:51.331881400Z",
     "start_time": "2025-09-02T19:39:21.793895Z"
    }
   },
   "source": [
    "plt.imshow(rgb_image)\n",
    "plt.show()"
   ],
   "outputs": [
    {
     "data": {
      "text/plain": [
       "<Figure size 640x480 with 1 Axes>"
      ],
      "image/png": "[encoded data removed]"
     },
     "metadata": {},
     "output_type": "display_data"
    }
   ],
   "execution_count": 113
  },
  {
   "cell_type": "markdown",
   "id": "b-iPDgjWe2xU",
   "metadata": {
    "id": "b-iPDgjWe2xU"
   },
   "source": [
    "### Problem 3 (2 points)\n",
    "\n",
    "The image now has one more axis for the RGB channels. The shape is now HxWxC (height, width, channels). Modify your code from above to apply the filter to each channel and then output the blurred RGB image."
   ]
  },
  {
   "metadata": {
    "id": "xhQ6eTonfCb-",
    "ExecuteTime": {
     "end_time": "2025-09-02T19:40:51.332881200Z",
     "start_time": "2025-09-02T19:39:24.237543Z"
    }
   },
   "cell_type": "code",
   "source": [
    "def box_filter_RGB(image: np.ndarray) -> np.ndarray:\n",
    "    pass"
   ],
   "id": "xhQ6eTonfCb-",
   "outputs": [],
   "execution_count": 114
  },
  {
   "cell_type": "code",
   "id": "0snuhxrvhsOP",
   "metadata": {
    "id": "0snuhxrvhsOP",
    "ExecuteTime": {
     "end_time": "2025-09-02T19:40:51.333881700Z",
     "start_time": "2025-09-02T19:39:26.272742Z"
    }
   },
   "source": [
    "blurred_image = box_filter_RGB(rgb_image)\n",
    "plt.imshow(blurred_image)\n",
    "plt.show()"
   ],
   "outputs": [
    {
     "data": {
      "text/plain": [
       "<Figure size 640x480 with 1 Axes>"
      ],
      "image/png": "[encoded data removed]"
     },
     "metadata": {},
     "output_type": "display_data"
    }
   ],
   "execution_count": 115
  },
  {
   "cell_type": "code",
   "id": "oD69MdpZjaP5",
   "metadata": {
    "id": "oD69MdpZjaP5",
    "ExecuteTime": {
     "end_time": "2025-09-02T19:41:02.019321Z",
     "start_time": "2025-09-02T19:41:01.993232Z"
    }
   },
   "source": [
    "diff_image = np.abs(rgb_image - blurred_image)\n",
    "max_diff = np.max(diff_image)\n",
    "min_diff = np.min(diff_image)\n",
    "mean_diff = np.mean(diff_image)\n",
    "median_diff = np.median(diff_image)\n",
    "\n",
    "assert max_diff == 87\n",
    "assert min_diff == 0\n",
    "assert abs(mean_diff - 3.646) < 0.01\n",
    "assert median_diff == 2"
   ],
   "outputs": [
    {
     "ename": "AssertionError",
     "evalue": "",
     "output_type": "error",
     "traceback": [
      "\u001B[31m---------------------------------------------------------------------------\u001B[39m",
      "\u001B[31mAssertionError\u001B[39m                            Traceback (most recent call last)",
      "\u001B[36mCell\u001B[39m\u001B[36m \u001B[39m\u001B[32mIn[185]\u001B[39m\u001B[32m, line 7\u001B[39m\n\u001B[32m      4\u001B[39m mean_diff = np.mean(diff_image)\n\u001B[32m      5\u001B[39m median_diff = np.median(diff_image)\n\u001B[32m----> \u001B[39m\u001B[32m7\u001B[39m \u001B[38;5;28;01massert\u001B[39;00m max_diff == \u001B[32m87\u001B[39m\n\u001B[32m      8\u001B[39m \u001B[38;5;28;01massert\u001B[39;00m min_diff == \u001B[32m0\u001B[39m\n\u001B[32m      9\u001B[39m \u001B[38;5;28;01massert\u001B[39;00m \u001B[38;5;28mabs\u001B[39m(mean_diff - \u001B[32m3.646\u001B[39m) < \u001B[32m0.01\u001B[39m\n",
      "\u001B[31mAssertionError\u001B[39m: "
     ]
    }
   ],
   "execution_count": 185
  },
  {
   "cell_type": "markdown",
   "id": "xF5GVYhasigF",
   "metadata": {
    "id": "xF5GVYhasigF"
   },
   "source": [
    "# Conversion\n",
    "\n",
    "Run all cells by using `Runtime > Run all`.\n",
    "\n",
    "In order to convert the file to html for submission, first download the `.ipynb` file (`File > Download > Download .ipynb`). Then upload it in the working directory using the GUI (`Files > Upload to session storage`). Finaly run the next cell and download the resulting `.html`."
   ]
  },
  {
   "cell_type": "code",
   "id": "mjVw4jvss9Ts",
   "metadata": {
    "colab": {
     "base_uri": "https://localhost:8080/"
    },
    "executionInfo": {
     "elapsed": 5228,
     "status": "ok",
     "timestamp": 1737136138921,
     "user": {
      "displayName": "Roman Kouznetsov",
      "userId": "17272545075189313587"
     },
     "user_tz": 300
    },
    "id": "mjVw4jvss9Ts",
    "outputId": "14d7f02d-2660-49da-f1fd-e9daf4b49239",
    "ExecuteTime": {
     "end_time": "2025-09-02T19:49:43.769226Z",
     "start_time": "2025-09-02T19:49:38.695103Z"
    }
   },
   "source": [
    "!jupyter nbconvert --to html DATASCI415_GroupWork1.ipynb"
   ],
   "outputs": [
    {
     "name": "stderr",
     "output_type": "stream",
     "text": [
      "[NbConvertApp] Converting notebook DATASCI415_GroupWork1.ipynb to html\n",
      "[NbConvertApp] WARNING | Alternative text is missing on 2 image(s).\n",
      "[NbConvertApp] Writing 699139 bytes to DATASCI415_GroupWork1.html\n"
     ]
    }
   ],
   "execution_count": 188
  },
  {
   "cell_type": "code",
   "execution_count": null,
   "id": "RDSx3Pp-YdWa",
   "metadata": {
    "id": "RDSx3Pp-YdWa"
   },
   "outputs": [],
   "source": []
  }
 ],
 "metadata": {
  "colab": {
   "provenance": []
  },
  "kernelspec": {
   "display_name": "Python 3 (ipykernel)",
   "language": "python",
   "name": "python3"
  },
  "language_info": {
   "codemirror_mode": {
    "name": "ipython",
    "version": 3
   },
   "file_extension": ".py",
   "mimetype": "text/x-python",
   "name": "python",
   "nbconvert_exporter": "python",
   "pygments_lexer": "ipython3",
   "version": "3.13.7"
  }
 },
 "nbformat": 4,
 "nbformat_minor": 5
}
